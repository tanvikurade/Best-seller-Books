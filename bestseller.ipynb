{
  "nbformat": 4,
  "nbformat_minor": 0,
  "metadata": {
    "colab": {
      "name": "bestseller.ipynb",
      "provenance": [],
      "authorship_tag": "ABX9TyPL8wXl426L6J1SPNYffEjT",
      "include_colab_link": true
    },
    "kernelspec": {
      "name": "python3",
      "display_name": "Python 3"
    },
    "language_info": {
      "name": "python"
    }
  },
  "cells": [
    {
      "cell_type": "markdown",
      "metadata": {
        "id": "view-in-github",
        "colab_type": "text"
      },
      "source": [
        "<a href=\"https://colab.research.google.com/github/tanvikurade/Best-seller-Books/blob/main/bestseller.ipynb\" target=\"_parent\"><img src=\"https://colab.research.google.com/assets/colab-badge.svg\" alt=\"Open In Colab\"/></a>"
      ]
    },
    {
      "cell_type": "code",
      "metadata": {
        "id": "ed-GkMnSU77s"
      },
      "source": [
        "import numpy as np \n",
        "import pandas as pd\n",
        "import matplotlib.pyplot as plt\n",
        "%matplotlib inline \n",
        "import seaborn as sns  \n",
        "import pandas_profiling as pp \n",
        "import plotly.express as px\n",
        "import plotly.graph_objects as go"
      ],
      "execution_count": 1,
      "outputs": []
    },
    {
      "cell_type": "code",
      "metadata": {
        "id": "yD-1fFrOV1EV"
      },
      "source": [
        "df = pd.read_csv(\"bestsellerbook.csv\")"
      ],
      "execution_count": 2,
      "outputs": []
    },
    {
      "cell_type": "code",
      "metadata": {
        "colab": {
          "base_uri": "https://localhost:8080/",
          "height": 203
        },
        "id": "d8Y1fANdV8GX",
        "outputId": "c0fab826-86be-4104-cb2d-8e40807410e8"
      },
      "source": [
        "df.head()"
      ],
      "execution_count": 3,
      "outputs": [
        {
          "output_type": "execute_result",
          "data": {
            "text/html": [
              "<div>\n",
              "<style scoped>\n",
              "    .dataframe tbody tr th:only-of-type {\n",
              "        vertical-align: middle;\n",
              "    }\n",
              "\n",
              "    .dataframe tbody tr th {\n",
              "        vertical-align: top;\n",
              "    }\n",
              "\n",
              "    .dataframe thead th {\n",
              "        text-align: right;\n",
              "    }\n",
              "</style>\n",
              "<table border=\"1\" class=\"dataframe\">\n",
              "  <thead>\n",
              "    <tr style=\"text-align: right;\">\n",
              "      <th></th>\n",
              "      <th>Name</th>\n",
              "      <th>Author</th>\n",
              "      <th>User Rating</th>\n",
              "      <th>Reviews</th>\n",
              "      <th>Price</th>\n",
              "      <th>Year</th>\n",
              "      <th>Genre</th>\n",
              "    </tr>\n",
              "  </thead>\n",
              "  <tbody>\n",
              "    <tr>\n",
              "      <th>0</th>\n",
              "      <td>10-Day Green Smoothie Cleanse</td>\n",
              "      <td>JJ Smith</td>\n",
              "      <td>4.7</td>\n",
              "      <td>17350</td>\n",
              "      <td>8</td>\n",
              "      <td>2016</td>\n",
              "      <td>Non Fiction</td>\n",
              "    </tr>\n",
              "    <tr>\n",
              "      <th>1</th>\n",
              "      <td>11/22/63: A Novel</td>\n",
              "      <td>Stephen King</td>\n",
              "      <td>4.6</td>\n",
              "      <td>2052</td>\n",
              "      <td>22</td>\n",
              "      <td>2011</td>\n",
              "      <td>Fiction</td>\n",
              "    </tr>\n",
              "    <tr>\n",
              "      <th>2</th>\n",
              "      <td>12 Rules for Life: An Antidote to Chaos</td>\n",
              "      <td>Jordan B. Peterson</td>\n",
              "      <td>4.7</td>\n",
              "      <td>18979</td>\n",
              "      <td>15</td>\n",
              "      <td>2018</td>\n",
              "      <td>Non Fiction</td>\n",
              "    </tr>\n",
              "    <tr>\n",
              "      <th>3</th>\n",
              "      <td>1984 (Signet Classics)</td>\n",
              "      <td>George Orwell</td>\n",
              "      <td>4.7</td>\n",
              "      <td>21424</td>\n",
              "      <td>6</td>\n",
              "      <td>2017</td>\n",
              "      <td>Fiction</td>\n",
              "    </tr>\n",
              "    <tr>\n",
              "      <th>4</th>\n",
              "      <td>5,000 Awesome Facts (About Everything!) (Natio...</td>\n",
              "      <td>National Geographic Kids</td>\n",
              "      <td>4.8</td>\n",
              "      <td>7665</td>\n",
              "      <td>12</td>\n",
              "      <td>2019</td>\n",
              "      <td>Non Fiction</td>\n",
              "    </tr>\n",
              "  </tbody>\n",
              "</table>\n",
              "</div>"
            ],
            "text/plain": [
              "                                                Name  ...        Genre\n",
              "0                      10-Day Green Smoothie Cleanse  ...  Non Fiction\n",
              "1                                  11/22/63: A Novel  ...      Fiction\n",
              "2            12 Rules for Life: An Antidote to Chaos  ...  Non Fiction\n",
              "3                             1984 (Signet Classics)  ...      Fiction\n",
              "4  5,000 Awesome Facts (About Everything!) (Natio...  ...  Non Fiction\n",
              "\n",
              "[5 rows x 7 columns]"
            ]
          },
          "metadata": {
            "tags": []
          },
          "execution_count": 3
        }
      ]
    },
    {
      "cell_type": "code",
      "metadata": {
        "colab": {
          "base_uri": "https://localhost:8080/"
        },
        "id": "35svJMkpWEC1",
        "outputId": "060a9002-c8f9-4765-c6b0-6001f09b169c"
      },
      "source": [
        "df.shape"
      ],
      "execution_count": 4,
      "outputs": [
        {
          "output_type": "execute_result",
          "data": {
            "text/plain": [
              "(550, 7)"
            ]
          },
          "metadata": {
            "tags": []
          },
          "execution_count": 4
        }
      ]
    },
    {
      "cell_type": "code",
      "metadata": {
        "colab": {
          "base_uri": "https://localhost:8080/"
        },
        "id": "0GDd2mn0WNgI",
        "outputId": "d7cc9666-4ef8-45c4-e6fc-cc481c248c82"
      },
      "source": [
        "df.describe"
      ],
      "execution_count": 5,
      "outputs": [
        {
          "output_type": "execute_result",
          "data": {
            "text/plain": [
              "<bound method NDFrame.describe of                                                   Name  ...        Genre\n",
              "0                        10-Day Green Smoothie Cleanse  ...  Non Fiction\n",
              "1                                    11/22/63: A Novel  ...      Fiction\n",
              "2              12 Rules for Life: An Antidote to Chaos  ...  Non Fiction\n",
              "3                               1984 (Signet Classics)  ...      Fiction\n",
              "4    5,000 Awesome Facts (About Everything!) (Natio...  ...  Non Fiction\n",
              "..                                                 ...  ...          ...\n",
              "545       Wrecking Ball (Diary of a Wimpy Kid Book 14)  ...      Fiction\n",
              "546  You Are a Badass: How to Stop Doubting Your Gr...  ...  Non Fiction\n",
              "547  You Are a Badass: How to Stop Doubting Your Gr...  ...  Non Fiction\n",
              "548  You Are a Badass: How to Stop Doubting Your Gr...  ...  Non Fiction\n",
              "549  You Are a Badass: How to Stop Doubting Your Gr...  ...  Non Fiction\n",
              "\n",
              "[550 rows x 7 columns]>"
            ]
          },
          "metadata": {
            "tags": []
          },
          "execution_count": 5
        }
      ]
    },
    {
      "cell_type": "code",
      "metadata": {
        "colab": {
          "base_uri": "https://localhost:8080/"
        },
        "id": "f4CiYqcjWQL3",
        "outputId": "facd667f-2054-4f24-d415-e429efd4934e"
      },
      "source": [
        "df.info"
      ],
      "execution_count": 6,
      "outputs": [
        {
          "output_type": "execute_result",
          "data": {
            "text/plain": [
              "<bound method DataFrame.info of                                                   Name  ...        Genre\n",
              "0                        10-Day Green Smoothie Cleanse  ...  Non Fiction\n",
              "1                                    11/22/63: A Novel  ...      Fiction\n",
              "2              12 Rules for Life: An Antidote to Chaos  ...  Non Fiction\n",
              "3                               1984 (Signet Classics)  ...      Fiction\n",
              "4    5,000 Awesome Facts (About Everything!) (Natio...  ...  Non Fiction\n",
              "..                                                 ...  ...          ...\n",
              "545       Wrecking Ball (Diary of a Wimpy Kid Book 14)  ...      Fiction\n",
              "546  You Are a Badass: How to Stop Doubting Your Gr...  ...  Non Fiction\n",
              "547  You Are a Badass: How to Stop Doubting Your Gr...  ...  Non Fiction\n",
              "548  You Are a Badass: How to Stop Doubting Your Gr...  ...  Non Fiction\n",
              "549  You Are a Badass: How to Stop Doubting Your Gr...  ...  Non Fiction\n",
              "\n",
              "[550 rows x 7 columns]>"
            ]
          },
          "metadata": {
            "tags": []
          },
          "execution_count": 6
        }
      ]
    },
    {
      "cell_type": "code",
      "metadata": {
        "colab": {
          "base_uri": "https://localhost:8080/"
        },
        "id": "ZYpOjV_uWU8n",
        "outputId": "c50aa013-dd6d-4582-9034-9accad3a3535"
      },
      "source": [
        "df.dtypes"
      ],
      "execution_count": 7,
      "outputs": [
        {
          "output_type": "execute_result",
          "data": {
            "text/plain": [
              "Name            object\n",
              "Author          object\n",
              "User Rating    float64\n",
              "Reviews          int64\n",
              "Price            int64\n",
              "Year             int64\n",
              "Genre           object\n",
              "dtype: object"
            ]
          },
          "metadata": {
            "tags": []
          },
          "execution_count": 7
        }
      ]
    },
    {
      "cell_type": "code",
      "metadata": {
        "colab": {
          "base_uri": "https://localhost:8080/"
        },
        "id": "vdGhNiSuWYlj",
        "outputId": "1fe268da-ab69-406e-9425-f77f394939e8"
      },
      "source": [
        "df.isnull().sum()"
      ],
      "execution_count": 8,
      "outputs": [
        {
          "output_type": "execute_result",
          "data": {
            "text/plain": [
              "Name           0\n",
              "Author         0\n",
              "User Rating    0\n",
              "Reviews        0\n",
              "Price          0\n",
              "Year           0\n",
              "Genre          0\n",
              "dtype: int64"
            ]
          },
          "metadata": {
            "tags": []
          },
          "execution_count": 8
        }
      ]
    },
    {
      "cell_type": "markdown",
      "metadata": {
        "id": "wWJXcAibWqQS"
      },
      "source": [
        "There's no null value"
      ]
    },
    {
      "cell_type": "code",
      "metadata": {
        "colab": {
          "base_uri": "https://localhost:8080/"
        },
        "id": "MrAHzExZZFN6",
        "outputId": "ae173945-3143-4c5e-ceb8-d349739540f3"
      },
      "source": [
        "categorical_column = [column for column in df.columns if df[column].dtype=='object']\n",
        "categorical_column"
      ],
      "execution_count": 9,
      "outputs": [
        {
          "output_type": "execute_result",
          "data": {
            "text/plain": [
              "['Name', 'Author', 'Genre']"
            ]
          },
          "metadata": {
            "tags": []
          },
          "execution_count": 9
        }
      ]
    },
    {
      "cell_type": "code",
      "metadata": {
        "id": "ydeZdoy3ZGiQ"
      },
      "source": [
        "categorical = df[categorical_column]"
      ],
      "execution_count": 10,
      "outputs": []
    },
    {
      "cell_type": "code",
      "metadata": {
        "colab": {
          "base_uri": "https://localhost:8080/"
        },
        "id": "XvfhRPDJZOJE",
        "outputId": "5b0f67df-5dd6-4612-cd9c-4df1c68a3aed"
      },
      "source": [
        "categorical['Genre'].value_counts()"
      ],
      "execution_count": 11,
      "outputs": [
        {
          "output_type": "execute_result",
          "data": {
            "text/plain": [
              "Non Fiction    310\n",
              "Fiction        240\n",
              "Name: Genre, dtype: int64"
            ]
          },
          "metadata": {
            "tags": []
          },
          "execution_count": 11
        }
      ]
    },
    {
      "cell_type": "code",
      "metadata": {
        "id": "200HNItpZVTV"
      },
      "source": [
        "Genre = pd.get_dummies(categorical['Genre'],drop_first=True)"
      ],
      "execution_count": 12,
      "outputs": []
    },
    {
      "cell_type": "code",
      "metadata": {
        "colab": {
          "base_uri": "https://localhost:8080/",
          "height": 203
        },
        "id": "l6O2VuRAZrc9",
        "outputId": "7be61c9f-90b5-4775-be21-4dec77b9985d"
      },
      "source": [
        "Genre.head()"
      ],
      "execution_count": 13,
      "outputs": [
        {
          "output_type": "execute_result",
          "data": {
            "text/html": [
              "<div>\n",
              "<style scoped>\n",
              "    .dataframe tbody tr th:only-of-type {\n",
              "        vertical-align: middle;\n",
              "    }\n",
              "\n",
              "    .dataframe tbody tr th {\n",
              "        vertical-align: top;\n",
              "    }\n",
              "\n",
              "    .dataframe thead th {\n",
              "        text-align: right;\n",
              "    }\n",
              "</style>\n",
              "<table border=\"1\" class=\"dataframe\">\n",
              "  <thead>\n",
              "    <tr style=\"text-align: right;\">\n",
              "      <th></th>\n",
              "      <th>Non Fiction</th>\n",
              "    </tr>\n",
              "  </thead>\n",
              "  <tbody>\n",
              "    <tr>\n",
              "      <th>0</th>\n",
              "      <td>1</td>\n",
              "    </tr>\n",
              "    <tr>\n",
              "      <th>1</th>\n",
              "      <td>0</td>\n",
              "    </tr>\n",
              "    <tr>\n",
              "      <th>2</th>\n",
              "      <td>1</td>\n",
              "    </tr>\n",
              "    <tr>\n",
              "      <th>3</th>\n",
              "      <td>0</td>\n",
              "    </tr>\n",
              "    <tr>\n",
              "      <th>4</th>\n",
              "      <td>1</td>\n",
              "    </tr>\n",
              "  </tbody>\n",
              "</table>\n",
              "</div>"
            ],
            "text/plain": [
              "   Non Fiction\n",
              "0            1\n",
              "1            0\n",
              "2            1\n",
              "3            0\n",
              "4            1"
            ]
          },
          "metadata": {
            "tags": []
          },
          "execution_count": 13
        }
      ]
    },
    {
      "cell_type": "markdown",
      "metadata": {
        "id": "DaEgpF2Y4NKx"
      },
      "source": [
        "Data Visualisation"
      ]
    },
    {
      "cell_type": "code",
      "metadata": {
        "colab": {
          "base_uri": "https://localhost:8080/",
          "height": 266
        },
        "id": "JDz5E9ylaz56",
        "outputId": "f76a8feb-7c43-4d66-ea13-6e559c223063"
      },
      "source": [
        "y = df[\"User Rating\"].value_counts()\n",
        "y.plot(kind=\"pie\")"
      ],
      "execution_count": 15,
      "outputs": [
        {
          "output_type": "execute_result",
          "data": {
            "text/plain": [
              "<matplotlib.axes._subplots.AxesSubplot at 0x7ff42af02b50>"
            ]
          },
          "metadata": {
            "tags": []
          },
          "execution_count": 15
        },
        {
          "output_type": "display_data",
          "data": {
            "image/png": "[encoded data removed]",
            "text/plain": [
              "<Figure size 432x288 with 1 Axes>"
            ]
          },
          "metadata": {
            "tags": []
          }
        }
      ]
    },
    {
      "cell_type": "code",
      "metadata": {
        "colab": {
          "base_uri": "https://localhost:8080/",
          "height": 542
        },
        "id": "DcG4XQNXa1UM",
        "outputId": "373eec29-607a-4a0b-cd8f-8fec4ec3dba8"
      },
      "source": [
        "fig = px.histogram(df, x=\"User Rating\",labels={'':'The Number of Books'},title=\"User Rating Histogram\")\n",
        "fig.show()"
      ],
      "execution_count": 16,
      "outputs": [
        {
          "output_type": "display_data",
          "data": {
            "text/html": [
              "<html>\n",
              "<head><meta charset=\"utf-8\" /></head>\n",
              "<body>\n",
              "    <div>\n",
              "            <script src=\"https://cdnjs.cloudflare.com/ajax/libs/mathjax/2.7.5/MathJax.js?config=TeX-AMS-MML_SVG\"></script><script type=\"text/javascript\">if (window.MathJax) {MathJax.Hub.Config({SVG: {font: \"STIX-Web\"}});}</script>\n",
              "                <script type=\"text/javascript\">window.PlotlyConfig = {MathJaxConfig: 'local'};</script>\n",
              "        <script src=\"https://cdn.plot.ly/plotly-latest.min.js\"></script>    \n",
              "            <div id=\"3c46652d-0890-4477-8085-fed134ddcdf7\" class=\"plotly-graph-div\" style=\"height:525px; width:100%;\"></div>\n",
              "            <script type=\"text/javascript\">\n",
              "                \n",
              "                    window.PLOTLYENV=window.PLOTLYENV || {};\n",
              "                    \n",
              "                if (document.getElementById(\"3c46652d-0890-4477-8085-fed134ddcdf7\")) {\n",
              "                    Plotly.newPlot(\n",
              "                        '3c46652d-0890-4477-8085-fed134ddcdf7',\n",
              "                        [{\"alignmentgroup\": \"True\", \"bingroup\": \"x\", \"hoverlabel\": {\"namelength\": 0}, \"hovertemplate\": \"User Rating=%{x}<br>count=%{y}\", \"legendgroup\": \"\", \"marker\": {\"color\": \"#636efa\"}, \"name\": \"\", \"offsetgroup\": \"\", \"orientation\": \"v\", \"showlegend\": false, \"type\": \"histogram\", \"x\": [4.7, 4.6, 4.7, 4.7, 4.8, 4.4, 4.7, 4.7, 4.7, 4.6, 4.6, 4.6, 4.6, 4.5, 4.6, 4.5, 4.6, 4.4, 4.5, 4.8, 4.6, 4.6, 3.9, 4.6, 4.3, 4.6, 4.7, 4.2, 4.6, 4.6, 4.8, 4.7, 4.8, 4.8, 4.8, 4.7, 4.7, 4.7, 4.6, 4.5, 4.9, 4.9, 4.8, 4.6, 4.8, 4.5, 4.7, 4.7, 4.7, 4.7, 4.7, 4.7, 4.7, 4.3, 4.8, 4.8, 4.6, 4.6, 4.8, 4.4, 4.6, 4.3, 4.2, 4.8, 4.8, 4.8, 4.8, 4.6, 4.6, 4.5, 4.5, 4.8, 4.8, 4.8, 4.6, 4.6, 4.6, 4.5, 4.6, 4.7, 4.8, 4.9, 4.9, 4.9, 4.9, 4.9, 4.9, 4.9, 4.8, 4.6, 4.5, 4.5, 4.3, 4.5, 4.5, 4.7, 4.7, 4.7, 4.7, 4.7, 4.6, 4.6, 4.7, 4.4, 4.4, 4.5, 3.8, 3.8, 4.5, 4.2, 4.7, 4.7, 4.7, 4.7, 4.7, 4.4, 4.7, 4.4, 4.6, 4.6, 4.6, 4.5, 4.6, 4.8, 4.8, 4.8, 4.8, 4.8, 4.6, 4.6, 4.6, 4.6, 3.6, 4.8, 4.6, 4.0, 4.0, 4.0, 4.6, 4.5, 4.5, 4.5, 4.5, 4.8, 4.8, 4.8, 4.9, 4.9, 4.6, 4.4, 4.8, 4.9, 4.8, 4.9, 4.0, 4.9, 4.9, 4.9, 4.7, 4.8, 4.8, 4.7, 4.7, 4.4, 4.4, 4.8, 4.7, 4.7, 4.7, 4.7, 4.7, 4.3, 4.8, 4.8, 4.9, 4.7, 4.8, 4.6, 4.8, 4.8, 4.3, 4.4, 4.1, 4.6, 4.4, 4.4, 4.8, 4.9, 4.9, 4.9, 4.9, 4.9, 4.9, 4.6, 4.5, 4.6, 4.5, 4.6, 4.7, 4.7, 4.6, 4.6, 4.8, 4.8, 4.5, 4.5, 4.5, 4.9, 4.6, 4.6, 4.6, 4.6, 4.6, 4.5, 4.5, 4.4, 4.8, 4.5, 4.1, 4.9, 4.5, 4.5, 4.2, 4.8, 4.8, 4.8, 4.5, 4.7, 4.8, 4.7, 4.7, 4.7, 4.4, 4.6, 4.6, 4.6, 4.5, 4.5, 4.5, 4.8, 4.8, 4.6, 4.7, 4.6, 4.9, 4.9, 4.9, 4.9, 4.9, 4.9, 4.9, 4.9, 4.9, 4.8, 4.2, 4.6, 4.6, 4.5, 4.3, 4.6, 4.6, 4.6, 4.7, 4.7, 4.8, 4.8, 4.8, 4.8, 4.7, 4.3, 4.3, 4.5, 4.5, 4.5, 4.5, 4.5, 4.5, 4.5, 4.5, 4.5, 4.5, 4.8, 4.6, 4.6, 4.7, 4.7, 4.6, 4.6, 4.9, 4.9, 4.8, 4.8, 4.6, 4.8, 4.8, 4.7, 4.7, 4.8, 4.1, 4.7, 4.6, 4.6, 4.6, 4.9, 4.0, 4.0, 4.0, 4.0, 4.0, 4.0, 4.0, 4.0, 4.0, 4.5, 4.6, 4.5, 4.4, 4.4, 4.3, 4.3, 4.7, 4.7, 4.7, 4.7, 4.7, 4.8, 4.8, 4.8, 4.8, 4.8, 4.8, 4.6, 4.6, 4.6, 4.6, 4.7, 4.7, 4.7, 4.7, 4.6, 4.7, 4.7, 4.7, 4.8, 4.2, 4.8, 4.7, 4.6, 4.6, 4.8, 4.8, 4.8, 4.8, 3.3, 4.7, 4.3, 4.3, 4.3, 4.8, 4.4, 4.8, 4.8, 4.8, 4.1, 4.0, 4.7, 4.7, 4.7, 4.7, 4.6, 4.6, 4.6, 4.6, 4.6, 4.6, 4.7, 4.7, 4.7, 4.7, 4.7, 4.7, 4.8, 4.1, 4.1, 4.7, 4.7, 4.7, 4.7, 4.4, 4.4, 4.8, 4.8, 3.9, 3.9, 4.4, 4.4, 4.4, 4.5, 4.7, 4.3, 4.6, 4.8, 4.8, 4.8, 4.8, 4.8, 4.8, 4.7, 4.7, 4.7, 4.8, 4.8, 4.7, 4.7, 4.7, 4.3, 4.3, 4.7, 4.8, 4.8, 4.9, 4.4, 4.4, 4.5, 4.5, 4.5, 4.5, 4.4, 4.8, 4.2, 4.8, 4.9, 4.8, 4.7, 4.5, 4.8, 4.6, 4.8, 4.8, 4.4, 4.4, 4.4, 4.4, 4.4, 4.3, 4.3, 4.8, 4.8, 4.8, 4.5, 4.4, 4.8, 4.8, 4.6, 4.3, 4.3, 4.6, 4.6, 4.8, 4.6, 4.6, 4.6, 4.5, 4.8, 4.6, 4.6, 4.6, 4.7, 4.7, 4.7, 4.4, 4.4, 4.7, 4.7, 4.8, 4.7, 4.9, 4.9, 4.9, 4.9, 4.9, 4.9, 4.9, 4.6, 4.6, 4.6, 4.9, 4.9, 4.9, 4.9, 4.8, 4.8, 4.7, 4.7, 4.6, 4.6, 4.5, 4.5, 4.3, 4.3, 4.6, 4.6, 4.6, 4.6, 4.3, 4.8, 4.8, 4.8, 4.8, 4.8, 4.6, 4.8, 4.5, 4.7, 4.5, 4.8, 4.8, 4.8, 4.8, 4.8, 4.3, 4.9, 4.8, 4.7, 4.8, 4.5, 4.6, 4.7, 4.7, 4.8, 4.4, 4.4, 4.4, 4.8, 4.8, 4.8, 4.6, 4.4, 4.5, 4.2, 4.8, 4.8, 4.8, 4.8, 4.8, 4.9, 4.7, 4.7, 4.7, 4.7], \"xaxis\": \"x\", \"yaxis\": \"y\"}],\n",
              "                        {\"barmode\": \"relative\", \"legend\": {\"tracegroupgap\": 0}, \"template\": {\"data\": {\"bar\": [{\"error_x\": {\"color\": \"#2a3f5f\"}, \"error_y\": {\"color\": \"#2a3f5f\"}, \"marker\": {\"line\": {\"color\": \"#E5ECF6\", \"width\": 0.5}}, \"type\": \"bar\"}], \"barpolar\": [{\"marker\": {\"line\": {\"color\": \"#E5ECF6\", \"width\": 0.5}}, \"type\": \"barpolar\"}], \"carpet\": [{\"aaxis\": {\"endlinecolor\": \"#2a3f5f\", \"gridcolor\": \"white\", \"linecolor\": \"white\", \"minorgridcolor\": \"white\", \"startlinecolor\": \"#2a3f5f\"}, \"baxis\": {\"endlinecolor\": \"#2a3f5f\", \"gridcolor\": \"white\", \"linecolor\": \"white\", \"minorgridcolor\": \"white\", \"startlinecolor\": \"#2a3f5f\"}, \"type\": \"carpet\"}], \"choropleth\": [{\"colorbar\": {\"outlinewidth\": 0, \"ticks\": \"\"}, \"type\": \"choropleth\"}], \"contour\": [{\"colorbar\": {\"outlinewidth\": 0, \"ticks\": \"\"}, \"colorscale\": [[0.0, \"#0d0887\"], [0.1111111111111111, \"#46039f\"], [0.2222222222222222, \"#7201a8\"], [0.3333333333333333, \"#9c179e\"], [0.4444444444444444, \"#bd3786\"], [0.5555555555555556, \"#d8576b\"], [0.6666666666666666, \"#ed7953\"], [0.7777777777777778, \"#fb9f3a\"], [0.8888888888888888, \"#fdca26\"], [1.0, \"#f0f921\"]], \"type\": \"contour\"}], \"contourcarpet\": [{\"colorbar\": {\"outlinewidth\": 0, \"ticks\": \"\"}, \"type\": \"contourcarpet\"}], \"heatmap\": [{\"colorbar\": {\"outlinewidth\": 0, \"ticks\": \"\"}, \"colorscale\": [[0.0, \"#0d0887\"], [0.1111111111111111, \"#46039f\"], [0.2222222222222222, \"#7201a8\"], [0.3333333333333333, \"#9c179e\"], [0.4444444444444444, \"#bd3786\"], [0.5555555555555556, \"#d8576b\"], [0.6666666666666666, \"#ed7953\"], [0.7777777777777778, \"#fb9f3a\"], [0.8888888888888888, \"#fdca26\"], [1.0, \"#f0f921\"]], \"type\": \"heatmap\"}], \"heatmapgl\": [{\"colorbar\": {\"outlinewidth\": 0, \"ticks\": \"\"}, \"colorscale\": [[0.0, \"#0d0887\"], [0.1111111111111111, \"#46039f\"], [0.2222222222222222, \"#7201a8\"], [0.3333333333333333, \"#9c179e\"], [0.4444444444444444, \"#bd3786\"], [0.5555555555555556, \"#d8576b\"], [0.6666666666666666, \"#ed7953\"], [0.7777777777777778, \"#fb9f3a\"], [0.8888888888888888, \"#fdca26\"], [1.0, \"#f0f921\"]], \"type\": \"heatmapgl\"}], \"histogram\": [{\"marker\": {\"colorbar\": {\"outlinewidth\": 0, \"ticks\": \"\"}}, \"type\": \"histogram\"}], \"histogram2d\": [{\"colorbar\": {\"outlinewidth\": 0, \"ticks\": \"\"}, \"colorscale\": [[0.0, \"#0d0887\"], [0.1111111111111111, \"#46039f\"], [0.2222222222222222, \"#7201a8\"], [0.3333333333333333, \"#9c179e\"], [0.4444444444444444, \"#bd3786\"], [0.5555555555555556, \"#d8576b\"], [0.6666666666666666, \"#ed7953\"], [0.7777777777777778, \"#fb9f3a\"], [0.8888888888888888, \"#fdca26\"], [1.0, \"#f0f921\"]], \"type\": \"histogram2d\"}], \"histogram2dcontour\": [{\"colorbar\": {\"outlinewidth\": 0, \"ticks\": \"\"}, \"colorscale\": [[0.0, \"#0d0887\"], [0.1111111111111111, \"#46039f\"], [0.2222222222222222, \"#7201a8\"], [0.3333333333333333, \"#9c179e\"], [0.4444444444444444, \"#bd3786\"], [0.5555555555555556, \"#d8576b\"], [0.6666666666666666, \"#ed7953\"], [0.7777777777777778, \"#fb9f3a\"], [0.8888888888888888, \"#fdca26\"], [1.0, \"#f0f921\"]], \"type\": \"histogram2dcontour\"}], \"mesh3d\": [{\"colorbar\": {\"outlinewidth\": 0, \"ticks\": \"\"}, \"type\": \"mesh3d\"}], \"parcoords\": [{\"line\": {\"colorbar\": {\"outlinewidth\": 0, \"ticks\": \"\"}}, \"type\": \"parcoords\"}], \"pie\": [{\"automargin\": true, \"type\": \"pie\"}], \"scatter\": [{\"marker\": {\"colorbar\": {\"outlinewidth\": 0, \"ticks\": \"\"}}, \"type\": \"scatter\"}], \"scatter3d\": [{\"line\": {\"colorbar\": {\"outlinewidth\": 0, \"ticks\": \"\"}}, \"marker\": {\"colorbar\": {\"outlinewidth\": 0, \"ticks\": \"\"}}, \"type\": \"scatter3d\"}], \"scattercarpet\": [{\"marker\": {\"colorbar\": {\"outlinewidth\": 0, \"ticks\": \"\"}}, \"type\": \"scattercarpet\"}], \"scattergeo\": [{\"marker\": {\"colorbar\": {\"outlinewidth\": 0, \"ticks\": \"\"}}, \"type\": \"scattergeo\"}], \"scattergl\": [{\"marker\": {\"colorbar\": {\"outlinewidth\": 0, \"ticks\": \"\"}}, \"type\": \"scattergl\"}], \"scattermapbox\": [{\"marker\": {\"colorbar\": {\"outlinewidth\": 0, \"ticks\": \"\"}}, \"type\": \"scattermapbox\"}], \"scatterpolar\": [{\"marker\": {\"colorbar\": {\"outlinewidth\": 0, \"ticks\": \"\"}}, \"type\": \"scatterpolar\"}], \"scatterpolargl\": [{\"marker\": {\"colorbar\": {\"outlinewidth\": 0, \"ticks\": \"\"}}, \"type\": \"scatterpolargl\"}], \"scatterternary\": [{\"marker\": {\"colorbar\": {\"outlinewidth\": 0, \"ticks\": \"\"}}, \"type\": \"scatterternary\"}], \"surface\": [{\"colorbar\": {\"outlinewidth\": 0, \"ticks\": \"\"}, \"colorscale\": [[0.0, \"#0d0887\"], [0.1111111111111111, \"#46039f\"], [0.2222222222222222, \"#7201a8\"], [0.3333333333333333, \"#9c179e\"], [0.4444444444444444, \"#bd3786\"], [0.5555555555555556, \"#d8576b\"], [0.6666666666666666, \"#ed7953\"], [0.7777777777777778, \"#fb9f3a\"], [0.8888888888888888, \"#fdca26\"], [1.0, \"#f0f921\"]], \"type\": \"surface\"}], \"table\": [{\"cells\": {\"fill\": {\"color\": \"#EBF0F8\"}, \"line\": {\"color\": \"white\"}}, \"header\": {\"fill\": {\"color\": \"#C8D4E3\"}, \"line\": {\"color\": \"white\"}}, \"type\": \"table\"}]}, \"layout\": {\"annotationdefaults\": {\"arrowcolor\": \"#2a3f5f\", \"arrowhead\": 0, \"arrowwidth\": 1}, \"coloraxis\": {\"colorbar\": {\"outlinewidth\": 0, \"ticks\": \"\"}}, \"colorscale\": {\"diverging\": [[0, \"#8e0152\"], [0.1, \"#c51b7d\"], [0.2, \"#de77ae\"], [0.3, \"#f1b6da\"], [0.4, \"#fde0ef\"], [0.5, \"#f7f7f7\"], [0.6, \"#e6f5d0\"], [0.7, \"#b8e186\"], [0.8, \"#7fbc41\"], [0.9, \"#4d9221\"], [1, \"#276419\"]], \"sequential\": [[0.0, \"#0d0887\"], [0.1111111111111111, \"#46039f\"], [0.2222222222222222, \"#7201a8\"], [0.3333333333333333, \"#9c179e\"], [0.4444444444444444, \"#bd3786\"], [0.5555555555555556, \"#d8576b\"], [0.6666666666666666, \"#ed7953\"], [0.7777777777777778, \"#fb9f3a\"], [0.8888888888888888, \"#fdca26\"], [1.0, \"#f0f921\"]], \"sequentialminus\": [[0.0, \"#0d0887\"], [0.1111111111111111, \"#46039f\"], [0.2222222222222222, \"#7201a8\"], [0.3333333333333333, \"#9c179e\"], [0.4444444444444444, \"#bd3786\"], [0.5555555555555556, \"#d8576b\"], [0.6666666666666666, \"#ed7953\"], [0.7777777777777778, \"#fb9f3a\"], [0.8888888888888888, \"#fdca26\"], [1.0, \"#f0f921\"]]}, \"colorway\": [\"#636efa\", \"#EF553B\", \"#00cc96\", \"#ab63fa\", \"#FFA15A\", \"#19d3f3\", \"#FF6692\", \"#B6E880\", \"#FF97FF\", \"#FECB52\"], \"font\": {\"color\": \"#2a3f5f\"}, \"geo\": {\"bgcolor\": \"white\", \"lakecolor\": \"white\", \"landcolor\": \"#E5ECF6\", \"showlakes\": true, \"showland\": true, \"subunitcolor\": \"white\"}, \"hoverlabel\": {\"align\": \"left\"}, \"hovermode\": \"closest\", \"mapbox\": {\"style\": \"light\"}, \"paper_bgcolor\": \"white\", \"plot_bgcolor\": \"#E5ECF6\", \"polar\": {\"angularaxis\": {\"gridcolor\": \"white\", \"linecolor\": \"white\", \"ticks\": \"\"}, \"bgcolor\": \"#E5ECF6\", \"radialaxis\": {\"gridcolor\": \"white\", \"linecolor\": \"white\", \"ticks\": \"\"}}, \"scene\": {\"xaxis\": {\"backgroundcolor\": \"#E5ECF6\", \"gridcolor\": \"white\", \"gridwidth\": 2, \"linecolor\": \"white\", \"showbackground\": true, \"ticks\": \"\", \"zerolinecolor\": \"white\"}, \"yaxis\": {\"backgroundcolor\": \"#E5ECF6\", \"gridcolor\": \"white\", \"gridwidth\": 2, \"linecolor\": \"white\", \"showbackground\": true, \"ticks\": \"\", \"zerolinecolor\": \"white\"}, \"zaxis\": {\"backgroundcolor\": \"#E5ECF6\", \"gridcolor\": \"white\", \"gridwidth\": 2, \"linecolor\": \"white\", \"showbackground\": true, \"ticks\": \"\", \"zerolinecolor\": \"white\"}}, \"shapedefaults\": {\"line\": {\"color\": \"#2a3f5f\"}}, \"ternary\": {\"aaxis\": {\"gridcolor\": \"white\", \"linecolor\": \"white\", \"ticks\": \"\"}, \"baxis\": {\"gridcolor\": \"white\", \"linecolor\": \"white\", \"ticks\": \"\"}, \"bgcolor\": \"#E5ECF6\", \"caxis\": {\"gridcolor\": \"white\", \"linecolor\": \"white\", \"ticks\": \"\"}}, \"title\": {\"x\": 0.05}, \"xaxis\": {\"automargin\": true, \"gridcolor\": \"white\", \"linecolor\": \"white\", \"ticks\": \"\", \"title\": {\"standoff\": 15}, \"zerolinecolor\": \"white\", \"zerolinewidth\": 2}, \"yaxis\": {\"automargin\": true, \"gridcolor\": \"white\", \"linecolor\": \"white\", \"ticks\": \"\", \"title\": {\"standoff\": 15}, \"zerolinecolor\": \"white\", \"zerolinewidth\": 2}}}, \"title\": {\"text\": \"User Rating Histogram\"}, \"xaxis\": {\"anchor\": \"y\", \"domain\": [0.0, 1.0], \"title\": {\"text\": \"User Rating\"}}, \"yaxis\": {\"anchor\": \"x\", \"domain\": [0.0, 1.0], \"title\": {\"text\": \"count\"}}},\n",
              "                        {\"responsive\": true}\n",
              "                    ).then(function(){\n",
              "                            \n",
              "var gd = document.getElementById('3c46652d-0890-4477-8085-fed134ddcdf7');\n",
              "var x = new MutationObserver(function (mutations, observer) {{\n",
              "        var display = window.getComputedStyle(gd).display;\n",
              "        if (!display || display === 'none') {{\n",
              "            console.log([gd, 'removed!']);\n",
              "            Plotly.purge(gd);\n",
              "            observer.disconnect();\n",
              "        }}\n",
              "}});\n",
              "\n",
              "// Listen for the removal of the full notebook cells\n",
              "var notebookContainer = gd.closest('#notebook-container');\n",
              "if (notebookContainer) {{\n",
              "    x.observe(notebookContainer, {childList: true});\n",
              "}}\n",
              "\n",
              "// Listen for the clearing of the current output cell\n",
              "var outputEl = gd.closest('.output');\n",
              "if (outputEl) {{\n",
              "    x.observe(outputEl, {childList: true});\n",
              "}}\n",
              "\n",
              "                        })\n",
              "                };\n",
              "                \n",
              "            </script>\n",
              "        </div>\n",
              "</body>\n",
              "</html>"
            ]
          },
          "metadata": {
            "tags": []
          }
        }
      ]
    },
    {
      "cell_type": "code",
      "metadata": {
        "id": "RcDjkOZ65Grq"
      },
      "source": [
        "authors = df[\"Author\"].value_counts()\n",
        "author_times = []\n",
        "author_names = []\n",
        "for i in range(len(authors)):\n",
        "    author_names.append(authors.keys()[i])\n",
        "    author_times.append(authors[i])"
      ],
      "execution_count": 17,
      "outputs": []
    },
    {
      "cell_type": "code",
      "metadata": {
        "id": "9jJp8aV45Nzw",
        "outputId": "00cf35d5-bf16-437b-b9eb-5790da2ff26d",
        "colab": {
          "base_uri": "https://localhost:8080/",
          "height": 417
        }
      },
      "source": [
        "popular_authors = pd.DataFrame({\"Author\":author_names,\"Number of Times\":author_times})\n",
        "popular_authors"
      ],
      "execution_count": 18,
      "outputs": [
        {
          "output_type": "execute_result",
          "data": {
            "text/html": [
              "<div>\n",
              "<style scoped>\n",
              "    .dataframe tbody tr th:only-of-type {\n",
              "        vertical-align: middle;\n",
              "    }\n",
              "\n",
              "    .dataframe tbody tr th {\n",
              "        vertical-align: top;\n",
              "    }\n",
              "\n",
              "    .dataframe thead th {\n",
              "        text-align: right;\n",
              "    }\n",
              "</style>\n",
              "<table border=\"1\" class=\"dataframe\">\n",
              "  <thead>\n",
              "    <tr style=\"text-align: right;\">\n",
              "      <th></th>\n",
              "      <th>Author</th>\n",
              "      <th>Number of Times</th>\n",
              "    </tr>\n",
              "  </thead>\n",
              "  <tbody>\n",
              "    <tr>\n",
              "      <th>0</th>\n",
              "      <td>Jeff Kinney</td>\n",
              "      <td>12</td>\n",
              "    </tr>\n",
              "    <tr>\n",
              "      <th>1</th>\n",
              "      <td>Rick Riordan</td>\n",
              "      <td>11</td>\n",
              "    </tr>\n",
              "    <tr>\n",
              "      <th>2</th>\n",
              "      <td>Suzanne Collins</td>\n",
              "      <td>11</td>\n",
              "    </tr>\n",
              "    <tr>\n",
              "      <th>3</th>\n",
              "      <td>Gary Chapman</td>\n",
              "      <td>11</td>\n",
              "    </tr>\n",
              "    <tr>\n",
              "      <th>4</th>\n",
              "      <td>American Psychological Association</td>\n",
              "      <td>10</td>\n",
              "    </tr>\n",
              "    <tr>\n",
              "      <th>...</th>\n",
              "      <td>...</td>\n",
              "      <td>...</td>\n",
              "    </tr>\n",
              "    <tr>\n",
              "      <th>243</th>\n",
              "      <td>Steve Harvey</td>\n",
              "      <td>1</td>\n",
              "    </tr>\n",
              "    <tr>\n",
              "      <th>244</th>\n",
              "      <td>Khaled Hosseini</td>\n",
              "      <td>1</td>\n",
              "    </tr>\n",
              "    <tr>\n",
              "      <th>245</th>\n",
              "      <td>Kevin Kwan</td>\n",
              "      <td>1</td>\n",
              "    </tr>\n",
              "    <tr>\n",
              "      <th>246</th>\n",
              "      <td>Muriel Barbery</td>\n",
              "      <td>1</td>\n",
              "    </tr>\n",
              "    <tr>\n",
              "      <th>247</th>\n",
              "      <td>Crispin Boyer</td>\n",
              "      <td>1</td>\n",
              "    </tr>\n",
              "  </tbody>\n",
              "</table>\n",
              "<p>248 rows × 2 columns</p>\n",
              "</div>"
            ],
            "text/plain": [
              "                                 Author  Number of Times\n",
              "0                           Jeff Kinney               12\n",
              "1                          Rick Riordan               11\n",
              "2                       Suzanne Collins               11\n",
              "3                          Gary Chapman               11\n",
              "4    American Psychological Association               10\n",
              "..                                  ...              ...\n",
              "243                        Steve Harvey                1\n",
              "244                     Khaled Hosseini                1\n",
              "245                          Kevin Kwan                1\n",
              "246                      Muriel Barbery                1\n",
              "247                       Crispin Boyer                1\n",
              "\n",
              "[248 rows x 2 columns]"
            ]
          },
          "metadata": {
            "tags": []
          },
          "execution_count": 18
        }
      ]
    },
    {
      "cell_type": "code",
      "metadata": {
        "id": "j78nmkpB5O5N",
        "outputId": "a536f306-dbff-40c5-8692-bdda0ebb2856",
        "colab": {
          "base_uri": "https://localhost:8080/",
          "height": 234
        }
      },
      "source": [
        "df[['User Rating','Author','Name']].groupby(by=['Author','Name']).mean().sort_values(by\n",
        "=['User Rating'],ascending=False).head(5)"
      ],
      "execution_count": 20,
      "outputs": [
        {
          "output_type": "execute_result",
          "data": {
            "text/html": [
              "<div>\n",
              "<style scoped>\n",
              "    .dataframe tbody tr th:only-of-type {\n",
              "        vertical-align: middle;\n",
              "    }\n",
              "\n",
              "    .dataframe tbody tr th {\n",
              "        vertical-align: top;\n",
              "    }\n",
              "\n",
              "    .dataframe thead th {\n",
              "        text-align: right;\n",
              "    }\n",
              "</style>\n",
              "<table border=\"1\" class=\"dataframe\">\n",
              "  <thead>\n",
              "    <tr style=\"text-align: right;\">\n",
              "      <th></th>\n",
              "      <th></th>\n",
              "      <th>User Rating</th>\n",
              "    </tr>\n",
              "    <tr>\n",
              "      <th>Author</th>\n",
              "      <th>Name</th>\n",
              "      <th></th>\n",
              "    </tr>\n",
              "  </thead>\n",
              "  <tbody>\n",
              "    <tr>\n",
              "      <th>J. K. Rowling</th>\n",
              "      <th>Harry Potter and the Goblet of Fire: The Illustrated Edition (Harry Potter, Book 4) (4)</th>\n",
              "      <td>4.9</td>\n",
              "    </tr>\n",
              "    <tr>\n",
              "      <th>Dav Pilkey</th>\n",
              "      <th>Dog Man: A Tale of Two Kitties: From the Creator of Captain Underpants (Dog Man #3)</th>\n",
              "      <td>4.9</td>\n",
              "    </tr>\n",
              "    <tr>\n",
              "      <th>J.K. Rowling</th>\n",
              "      <th>Harry Potter and the Sorcerer's Stone: The Illustrated Edition (Harry Potter, Book 1)</th>\n",
              "      <td>4.9</td>\n",
              "    </tr>\n",
              "    <tr>\n",
              "      <th>Brandon Stanton</th>\n",
              "      <th>Humans of New York : Stories</th>\n",
              "      <td>4.9</td>\n",
              "    </tr>\n",
              "    <tr>\n",
              "      <th>J.K. Rowling</th>\n",
              "      <th>Harry Potter and the Prisoner of Azkaban: The Illustrated Edition (Harry Potter, Book 3)</th>\n",
              "      <td>4.9</td>\n",
              "    </tr>\n",
              "  </tbody>\n",
              "</table>\n",
              "</div>"
            ],
            "text/plain": [
              "                                                                    User Rating\n",
              "Author          Name                                                           \n",
              "J. K. Rowling   Harry Potter and the Goblet of Fire: The Illust...          4.9\n",
              "Dav Pilkey      Dog Man: A Tale of Two Kitties: From the Creato...          4.9\n",
              "J.K. Rowling    Harry Potter and the Sorcerer's Stone: The Illu...          4.9\n",
              "Brandon Stanton Humans of New York : Stories                                4.9\n",
              "J.K. Rowling    Harry Potter and the Prisoner of Azkaban: The I...          4.9"
            ]
          },
          "metadata": {
            "tags": []
          },
          "execution_count": 20
        }
      ]
    },
    {
      "cell_type": "code",
      "metadata": {
        "id": "2qfKuOt26YUW",
        "outputId": "2f8de6e2-8d53-47c2-99e5-48a7bc96e655",
        "colab": {
          "base_uri": "https://localhost:8080/",
          "height": 203
        }
      },
      "source": [
        "year = [2009,2010,2011,2012,2013,2014,2015,2016,2017,2018,2019]\n",
        "num_fic= []\n",
        "for i in year:\n",
        "    fic = df[(df[\"Year\"] == i) & (df[\"Genre\"] == \"Fiction\")]\n",
        "    num_fic.append(len(fic))\n",
        "df_fict = pd.DataFrame({\"Year\": year,\"numberofFiction\": num_fic})\n",
        "df_fict.head()"
      ],
      "execution_count": 24,
      "outputs": [
        {
          "output_type": "execute_result",
          "data": {
            "text/html": [
              "<div>\n",
              "<style scoped>\n",
              "    .dataframe tbody tr th:only-of-type {\n",
              "        vertical-align: middle;\n",
              "    }\n",
              "\n",
              "    .dataframe tbody tr th {\n",
              "        vertical-align: top;\n",
              "    }\n",
              "\n",
              "    .dataframe thead th {\n",
              "        text-align: right;\n",
              "    }\n",
              "</style>\n",
              "<table border=\"1\" class=\"dataframe\">\n",
              "  <thead>\n",
              "    <tr style=\"text-align: right;\">\n",
              "      <th></th>\n",
              "      <th>Year</th>\n",
              "      <th>numberofFiction</th>\n",
              "    </tr>\n",
              "  </thead>\n",
              "  <tbody>\n",
              "    <tr>\n",
              "      <th>0</th>\n",
              "      <td>2009</td>\n",
              "      <td>24</td>\n",
              "    </tr>\n",
              "    <tr>\n",
              "      <th>1</th>\n",
              "      <td>2010</td>\n",
              "      <td>20</td>\n",
              "    </tr>\n",
              "    <tr>\n",
              "      <th>2</th>\n",
              "      <td>2011</td>\n",
              "      <td>21</td>\n",
              "    </tr>\n",
              "    <tr>\n",
              "      <th>3</th>\n",
              "      <td>2012</td>\n",
              "      <td>21</td>\n",
              "    </tr>\n",
              "    <tr>\n",
              "      <th>4</th>\n",
              "      <td>2013</td>\n",
              "      <td>24</td>\n",
              "    </tr>\n",
              "  </tbody>\n",
              "</table>\n",
              "</div>"
            ],
            "text/plain": [
              "   Year  numberofFiction\n",
              "0  2009               24\n",
              "1  2010               20\n",
              "2  2011               21\n",
              "3  2012               21\n",
              "4  2013               24"
            ]
          },
          "metadata": {
            "tags": []
          },
          "execution_count": 24
        }
      ]
    },
    {
      "cell_type": "code",
      "metadata": {
        "id": "d0eEcXj66uv8",
        "outputId": "0912f885-2cdb-48e0-880b-f229fb0d2ee3",
        "colab": {
          "base_uri": "https://localhost:8080/",
          "height": 203
        }
      },
      "source": [
        "year = [2009,2010,2011,2012,2013,2014,2015,2016,2017,2018,2019]\n",
        "num_nonfic= []\n",
        "for i in year:\n",
        "    nonfic = df[(df[\"Year\"] == i) & (df[\"Genre\"] == \"Non Fiction\")]\n",
        "    num_nonfic.append(len(nonfic))\n",
        "df_nonfict = pd.DataFrame({\"Year\": year,\"numberofNonFiction\": num_nonfic})\n",
        "df_nonfict.head()"
      ],
      "execution_count": 25,
      "outputs": [
        {
          "output_type": "execute_result",
          "data": {
            "text/html": [
              "<div>\n",
              "<style scoped>\n",
              "    .dataframe tbody tr th:only-of-type {\n",
              "        vertical-align: middle;\n",
              "    }\n",
              "\n",
              "    .dataframe tbody tr th {\n",
              "        vertical-align: top;\n",
              "    }\n",
              "\n",
              "    .dataframe thead th {\n",
              "        text-align: right;\n",
              "    }\n",
              "</style>\n",
              "<table border=\"1\" class=\"dataframe\">\n",
              "  <thead>\n",
              "    <tr style=\"text-align: right;\">\n",
              "      <th></th>\n",
              "      <th>Year</th>\n",
              "      <th>numberofNonFiction</th>\n",
              "    </tr>\n",
              "  </thead>\n",
              "  <tbody>\n",
              "    <tr>\n",
              "      <th>0</th>\n",
              "      <td>2009</td>\n",
              "      <td>26</td>\n",
              "    </tr>\n",
              "    <tr>\n",
              "      <th>1</th>\n",
              "      <td>2010</td>\n",
              "      <td>30</td>\n",
              "    </tr>\n",
              "    <tr>\n",
              "      <th>2</th>\n",
              "      <td>2011</td>\n",
              "      <td>29</td>\n",
              "    </tr>\n",
              "    <tr>\n",
              "      <th>3</th>\n",
              "      <td>2012</td>\n",
              "      <td>29</td>\n",
              "    </tr>\n",
              "    <tr>\n",
              "      <th>4</th>\n",
              "      <td>2013</td>\n",
              "      <td>26</td>\n",
              "    </tr>\n",
              "  </tbody>\n",
              "</table>\n",
              "</div>"
            ],
            "text/plain": [
              "   Year  numberofNonFiction\n",
              "0  2009                  26\n",
              "1  2010                  30\n",
              "2  2011                  29\n",
              "3  2012                  29\n",
              "4  2013                  26"
            ]
          },
          "metadata": {
            "tags": []
          },
          "execution_count": 25
        }
      ]
    },
    {
      "cell_type": "code",
      "metadata": {
        "id": "OFenU5St6zL_",
        "outputId": "e8179609-fc04-43b8-862a-c9055d3ea0c4",
        "colab": {
          "base_uri": "https://localhost:8080/",
          "height": 203
        }
      },
      "source": [
        "df_nonfict[\"numberofFiction\"] = df_fict[\"numberofFiction\"]\n",
        "df_nonfict.head()"
      ],
      "execution_count": 26,
      "outputs": [
        {
          "output_type": "execute_result",
          "data": {
            "text/html": [
              "<div>\n",
              "<style scoped>\n",
              "    .dataframe tbody tr th:only-of-type {\n",
              "        vertical-align: middle;\n",
              "    }\n",
              "\n",
              "    .dataframe tbody tr th {\n",
              "        vertical-align: top;\n",
              "    }\n",
              "\n",
              "    .dataframe thead th {\n",
              "        text-align: right;\n",
              "    }\n",
              "</style>\n",
              "<table border=\"1\" class=\"dataframe\">\n",
              "  <thead>\n",
              "    <tr style=\"text-align: right;\">\n",
              "      <th></th>\n",
              "      <th>Year</th>\n",
              "      <th>numberofNonFiction</th>\n",
              "      <th>numberofFiction</th>\n",
              "    </tr>\n",
              "  </thead>\n",
              "  <tbody>\n",
              "    <tr>\n",
              "      <th>0</th>\n",
              "      <td>2009</td>\n",
              "      <td>26</td>\n",
              "      <td>24</td>\n",
              "    </tr>\n",
              "    <tr>\n",
              "      <th>1</th>\n",
              "      <td>2010</td>\n",
              "      <td>30</td>\n",
              "      <td>20</td>\n",
              "    </tr>\n",
              "    <tr>\n",
              "      <th>2</th>\n",
              "      <td>2011</td>\n",
              "      <td>29</td>\n",
              "      <td>21</td>\n",
              "    </tr>\n",
              "    <tr>\n",
              "      <th>3</th>\n",
              "      <td>2012</td>\n",
              "      <td>29</td>\n",
              "      <td>21</td>\n",
              "    </tr>\n",
              "    <tr>\n",
              "      <th>4</th>\n",
              "      <td>2013</td>\n",
              "      <td>26</td>\n",
              "      <td>24</td>\n",
              "    </tr>\n",
              "  </tbody>\n",
              "</table>\n",
              "</div>"
            ],
            "text/plain": [
              "   Year  numberofNonFiction  numberofFiction\n",
              "0  2009                  26               24\n",
              "1  2010                  30               20\n",
              "2  2011                  29               21\n",
              "3  2012                  29               21\n",
              "4  2013                  26               24"
            ]
          },
          "metadata": {
            "tags": []
          },
          "execution_count": 26
        }
      ]
    },
    {
      "cell_type": "code",
      "metadata": {
        "id": "lFBkVdHb64nU",
        "outputId": "8aee448a-8e78-4b12-a31b-b43700352c4d",
        "colab": {
          "base_uri": "https://localhost:8080/",
          "height": 203
        }
      },
      "source": [
        "df_genre = df_nonfict.copy()\n",
        "df_genre.head()"
      ],
      "execution_count": 27,
      "outputs": [
        {
          "output_type": "execute_result",
          "data": {
            "text/html": [
              "<div>\n",
              "<style scoped>\n",
              "    .dataframe tbody tr th:only-of-type {\n",
              "        vertical-align: middle;\n",
              "    }\n",
              "\n",
              "    .dataframe tbody tr th {\n",
              "        vertical-align: top;\n",
              "    }\n",
              "\n",
              "    .dataframe thead th {\n",
              "        text-align: right;\n",
              "    }\n",
              "</style>\n",
              "<table border=\"1\" class=\"dataframe\">\n",
              "  <thead>\n",
              "    <tr style=\"text-align: right;\">\n",
              "      <th></th>\n",
              "      <th>Year</th>\n",
              "      <th>numberofNonFiction</th>\n",
              "      <th>numberofFiction</th>\n",
              "    </tr>\n",
              "  </thead>\n",
              "  <tbody>\n",
              "    <tr>\n",
              "      <th>0</th>\n",
              "      <td>2009</td>\n",
              "      <td>26</td>\n",
              "      <td>24</td>\n",
              "    </tr>\n",
              "    <tr>\n",
              "      <th>1</th>\n",
              "      <td>2010</td>\n",
              "      <td>30</td>\n",
              "      <td>20</td>\n",
              "    </tr>\n",
              "    <tr>\n",
              "      <th>2</th>\n",
              "      <td>2011</td>\n",
              "      <td>29</td>\n",
              "      <td>21</td>\n",
              "    </tr>\n",
              "    <tr>\n",
              "      <th>3</th>\n",
              "      <td>2012</td>\n",
              "      <td>29</td>\n",
              "      <td>21</td>\n",
              "    </tr>\n",
              "    <tr>\n",
              "      <th>4</th>\n",
              "      <td>2013</td>\n",
              "      <td>26</td>\n",
              "      <td>24</td>\n",
              "    </tr>\n",
              "  </tbody>\n",
              "</table>\n",
              "</div>"
            ],
            "text/plain": [
              "   Year  numberofNonFiction  numberofFiction\n",
              "0  2009                  26               24\n",
              "1  2010                  30               20\n",
              "2  2011                  29               21\n",
              "3  2012                  29               21\n",
              "4  2013                  26               24"
            ]
          },
          "metadata": {
            "tags": []
          },
          "execution_count": 27
        }
      ]
    },
    {
      "cell_type": "code",
      "metadata": {
        "id": "7Cvl14c86_k1",
        "outputId": "9969ea2e-e7ec-46e0-b408-8f5381a7317f",
        "colab": {
          "base_uri": "https://localhost:8080/",
          "height": 354
        }
      },
      "source": [
        "plt.style.use(\"ggplot\")\n",
        "plt.figure(figsize=(16,5))\n",
        "plt.subplot(1,2,1)\n",
        "plt.bar(x = df_genre[\"Year\"],height=df_genre[\"numberofNonFiction\"],)\n",
        "plt.plot(df_genre[\"Year\"],df_genre[\"numberofNonFiction\"],\"go-\")\n",
        "#plt.plot(df_genre[\"Year\"],df_genre[\"numberofFiction\"],\"bo-\")\n",
        "plt.title(\"Trend of having NonFiction on BestSeller Books List(2009-2019)\")\n",
        "plt.xlabel(\"Year\")\n",
        "plt.ylabel(\"No. of NonFiction published\")\n",
        "\n",
        "plt.subplot(1,2,2)\n",
        "plt.bar(x = df_genre[\"Year\"],height=df_genre[\"numberofFiction\"],)\n",
        "plt.plot(df_genre[\"Year\"],df_genre[\"numberofFiction\"],\"bo-\")\n",
        "plt.title(\"Trend of Having Fiction on BestSeller Books List(2009-2019)\")\n",
        "plt.xlabel(\"Year\")\n",
        "plt.ylabel(\"No. of Fiction published\")\n",
        "plt.show()"
      ],
      "execution_count": 28,
      "outputs": [
        {
          "output_type": "display_data",
          "data": {
            "image/png": "[encoded data removed]",
            "text/plain": [
              "<Figure size 1152x360 with 2 Axes>"
            ]
          },
          "metadata": {
            "tags": []
          }
        }
      ]
    },
    {
      "cell_type": "code",
      "metadata": {
        "id": "_xzcyeXE7D8a",
        "outputId": "52167b2f-1024-442d-86f1-29b13fd23328",
        "colab": {
          "base_uri": "https://localhost:8080/",
          "height": 378
        }
      },
      "source": [
        "#check correlation and plot heatmap \n",
        "correlation = df.corr()\n",
        "plt.figure(figsize = (10,6))\n",
        "sns.heatmap(correlation,annot=True)\n",
        "plt.show()"
      ],
      "execution_count": 29,
      "outputs": [
        {
          "output_type": "display_data",
          "data": {
            "image/png": "[encoded data removed]",
            "text/plain": [
              "<Figure size 720x432 with 2 Axes>"
            ]
          },
          "metadata": {
            "tags": []
          }
        }
      ]
    },
    {
      "cell_type": "code",
      "metadata": {
        "id": "qP9lobBm7Lc3",
        "outputId": "eba1b1e8-4fb8-45c8-88fe-890bcd27f52c",
        "colab": {
          "base_uri": "https://localhost:8080/"
        }
      },
      "source": [
        "df['Name'].value_counts()"
      ],
      "execution_count": 30,
      "outputs": [
        {
          "output_type": "execute_result",
          "data": {
            "text/plain": [
              "Publication Manual of the American Psychological Association, 6th Edition                                              10\n",
              "StrengthsFinder 2.0                                                                                                     9\n",
              "Oh, the Places You'll Go!                                                                                               8\n",
              "The Very Hungry Caterpillar                                                                                             7\n",
              "The 7 Habits of Highly Effective People: Powerful Lessons in Personal Change                                            7\n",
              "                                                                                                                       ..\n",
              "Harry Potter and the Cursed Child, Parts 1 & 2, Special Rehearsal Edition Script                                        1\n",
              "Difficult Riddles For Smart Kids: 300 Difficult Riddles And Brain Teasers Families Will Love (Books for Smart Kids)     1\n",
              "Have a Little Faith: A True Story                                                                                       1\n",
              "Tina Fey: Bossypants                                                                                                    1\n",
              "Baby Touch and Feel: Animals                                                                                            1\n",
              "Name: Name, Length: 351, dtype: int64"
            ]
          },
          "metadata": {
            "tags": []
          },
          "execution_count": 30
        }
      ]
    },
    {
      "cell_type": "code",
      "metadata": {
        "id": "UDjIc1u97UVm",
        "outputId": "ec06f3b6-1deb-4a59-a7de-358b392ea0bf",
        "colab": {
          "base_uri": "https://localhost:8080/",
          "height": 203
        }
      },
      "source": [
        "from sklearn.preprocessing import LabelEncoder\n",
        "\n",
        "df = df.copy(deep = True)\n",
        "LE = LabelEncoder()\n",
        "df['Genre'] = LE.fit_transform(df['Genre'])\n",
        "df['Author'] = LE.fit_transform(df['Author'])\n",
        "df['Name'] = LE.fit_transform(df['Name'])\n",
        "df.head()"
      ],
      "execution_count": 31,
      "outputs": [
        {
          "output_type": "execute_result",
          "data": {
            "text/html": [
              "<div>\n",
              "<style scoped>\n",
              "    .dataframe tbody tr th:only-of-type {\n",
              "        vertical-align: middle;\n",
              "    }\n",
              "\n",
              "    .dataframe tbody tr th {\n",
              "        vertical-align: top;\n",
              "    }\n",
              "\n",
              "    .dataframe thead th {\n",
              "        text-align: right;\n",
              "    }\n",
              "</style>\n",
              "<table border=\"1\" class=\"dataframe\">\n",
              "  <thead>\n",
              "    <tr style=\"text-align: right;\">\n",
              "      <th></th>\n",
              "      <th>Name</th>\n",
              "      <th>Author</th>\n",
              "      <th>User Rating</th>\n",
              "      <th>Reviews</th>\n",
              "      <th>Price</th>\n",
              "      <th>Year</th>\n",
              "      <th>Genre</th>\n",
              "    </tr>\n",
              "  </thead>\n",
              "  <tbody>\n",
              "    <tr>\n",
              "      <th>0</th>\n",
              "      <td>0</td>\n",
              "      <td>114</td>\n",
              "      <td>4.7</td>\n",
              "      <td>17350</td>\n",
              "      <td>8</td>\n",
              "      <td>2016</td>\n",
              "      <td>1</td>\n",
              "    </tr>\n",
              "    <tr>\n",
              "      <th>1</th>\n",
              "      <td>1</td>\n",
              "      <td>219</td>\n",
              "      <td>4.6</td>\n",
              "      <td>2052</td>\n",
              "      <td>22</td>\n",
              "      <td>2011</td>\n",
              "      <td>0</td>\n",
              "    </tr>\n",
              "    <tr>\n",
              "      <th>2</th>\n",
              "      <td>2</td>\n",
              "      <td>134</td>\n",
              "      <td>4.7</td>\n",
              "      <td>18979</td>\n",
              "      <td>15</td>\n",
              "      <td>2018</td>\n",
              "      <td>1</td>\n",
              "    </tr>\n",
              "    <tr>\n",
              "      <th>3</th>\n",
              "      <td>3</td>\n",
              "      <td>95</td>\n",
              "      <td>4.7</td>\n",
              "      <td>21424</td>\n",
              "      <td>6</td>\n",
              "      <td>2017</td>\n",
              "      <td>0</td>\n",
              "    </tr>\n",
              "    <tr>\n",
              "      <th>4</th>\n",
              "      <td>4</td>\n",
              "      <td>174</td>\n",
              "      <td>4.8</td>\n",
              "      <td>7665</td>\n",
              "      <td>12</td>\n",
              "      <td>2019</td>\n",
              "      <td>1</td>\n",
              "    </tr>\n",
              "  </tbody>\n",
              "</table>\n",
              "</div>"
            ],
            "text/plain": [
              "   Name  Author  User Rating  Reviews  Price  Year  Genre\n",
              "0     0     114          4.7    17350      8  2016      1\n",
              "1     1     219          4.6     2052     22  2011      0\n",
              "2     2     134          4.7    18979     15  2018      1\n",
              "3     3      95          4.7    21424      6  2017      0\n",
              "4     4     174          4.8     7665     12  2019      1"
            ]
          },
          "metadata": {
            "tags": []
          },
          "execution_count": 31
        }
      ]
    },
    {
      "cell_type": "code",
      "metadata": {
        "id": "CgMFy5-Q7hd7",
        "outputId": "897a7aae-35b0-44b3-9221-60705dcff276",
        "colab": {
          "base_uri": "https://localhost:8080/",
          "height": 203
        }
      },
      "source": [
        "X=df.drop(['User Rating'],axis=1)\n",
        "y=df[['User Rating']]\n",
        "X.head()\n"
      ],
      "execution_count": 32,
      "outputs": [
        {
          "output_type": "execute_result",
          "data": {
            "text/html": [
              "<div>\n",
              "<style scoped>\n",
              "    .dataframe tbody tr th:only-of-type {\n",
              "        vertical-align: middle;\n",
              "    }\n",
              "\n",
              "    .dataframe tbody tr th {\n",
              "        vertical-align: top;\n",
              "    }\n",
              "\n",
              "    .dataframe thead th {\n",
              "        text-align: right;\n",
              "    }\n",
              "</style>\n",
              "<table border=\"1\" class=\"dataframe\">\n",
              "  <thead>\n",
              "    <tr style=\"text-align: right;\">\n",
              "      <th></th>\n",
              "      <th>Name</th>\n",
              "      <th>Author</th>\n",
              "      <th>Reviews</th>\n",
              "      <th>Price</th>\n",
              "      <th>Year</th>\n",
              "      <th>Genre</th>\n",
              "    </tr>\n",
              "  </thead>\n",
              "  <tbody>\n",
              "    <tr>\n",
              "      <th>0</th>\n",
              "      <td>0</td>\n",
              "      <td>114</td>\n",
              "      <td>17350</td>\n",
              "      <td>8</td>\n",
              "      <td>2016</td>\n",
              "      <td>1</td>\n",
              "    </tr>\n",
              "    <tr>\n",
              "      <th>1</th>\n",
              "      <td>1</td>\n",
              "      <td>219</td>\n",
              "      <td>2052</td>\n",
              "      <td>22</td>\n",
              "      <td>2011</td>\n",
              "      <td>0</td>\n",
              "    </tr>\n",
              "    <tr>\n",
              "      <th>2</th>\n",
              "      <td>2</td>\n",
              "      <td>134</td>\n",
              "      <td>18979</td>\n",
              "      <td>15</td>\n",
              "      <td>2018</td>\n",
              "      <td>1</td>\n",
              "    </tr>\n",
              "    <tr>\n",
              "      <th>3</th>\n",
              "      <td>3</td>\n",
              "      <td>95</td>\n",
              "      <td>21424</td>\n",
              "      <td>6</td>\n",
              "      <td>2017</td>\n",
              "      <td>0</td>\n",
              "    </tr>\n",
              "    <tr>\n",
              "      <th>4</th>\n",
              "      <td>4</td>\n",
              "      <td>174</td>\n",
              "      <td>7665</td>\n",
              "      <td>12</td>\n",
              "      <td>2019</td>\n",
              "      <td>1</td>\n",
              "    </tr>\n",
              "  </tbody>\n",
              "</table>\n",
              "</div>"
            ],
            "text/plain": [
              "   Name  Author  Reviews  Price  Year  Genre\n",
              "0     0     114    17350      8  2016      1\n",
              "1     1     219     2052     22  2011      0\n",
              "2     2     134    18979     15  2018      1\n",
              "3     3      95    21424      6  2017      0\n",
              "4     4     174     7665     12  2019      1"
            ]
          },
          "metadata": {
            "tags": []
          },
          "execution_count": 32
        }
      ]
    },
    {
      "cell_type": "code",
      "metadata": {
        "id": "ia8YqGHx7xM6",
        "outputId": "4cde4101-4748-448b-e099-9fa700f52db1",
        "colab": {
          "base_uri": "https://localhost:8080/"
        }
      },
      "source": [
        "pip install catboost"
      ],
      "execution_count": 34,
      "outputs": [
        {
          "output_type": "stream",
          "text": [
            "Collecting catboost\n",
            "  Downloading catboost-0.26.1-cp37-none-manylinux1_x86_64.whl (67.4 MB)\n",
            "\u001b[K     |████████████████████████████████| 67.4 MB 27 kB/s \n",
            "\u001b[?25hRequirement already satisfied: numpy>=1.16.0 in /usr/local/lib/python3.7/dist-packages (from catboost) (1.19.5)\n",
            "Requirement already satisfied: graphviz in /usr/local/lib/python3.7/dist-packages (from catboost) (0.10.1)\n",
            "Requirement already satisfied: matplotlib in /usr/local/lib/python3.7/dist-packages (from catboost) (3.2.2)\n",
            "Requirement already satisfied: six in /usr/local/lib/python3.7/dist-packages (from catboost) (1.15.0)\n",
            "Requirement already satisfied: scipy in /usr/local/lib/python3.7/dist-packages (from catboost) (1.4.1)\n",
            "Requirement already satisfied: pandas>=0.24.0 in /usr/local/lib/python3.7/dist-packages (from catboost) (1.1.5)\n",
            "Requirement already satisfied: plotly in /usr/local/lib/python3.7/dist-packages (from catboost) (4.4.1)\n",
            "Requirement already satisfied: pytz>=2017.2 in /usr/local/lib/python3.7/dist-packages (from pandas>=0.24.0->catboost) (2018.9)\n",
            "Requirement already satisfied: python-dateutil>=2.7.3 in /usr/local/lib/python3.7/dist-packages (from pandas>=0.24.0->catboost) (2.8.2)\n",
            "Requirement already satisfied: kiwisolver>=1.0.1 in /usr/local/lib/python3.7/dist-packages (from matplotlib->catboost) (1.3.1)\n",
            "Requirement already satisfied: pyparsing!=2.0.4,!=2.1.2,!=2.1.6,>=2.0.1 in /usr/local/lib/python3.7/dist-packages (from matplotlib->catboost) (2.4.7)\n",
            "Requirement already satisfied: cycler>=0.10 in /usr/local/lib/python3.7/dist-packages (from matplotlib->catboost) (0.10.0)\n",
            "Requirement already satisfied: retrying>=1.3.3 in /usr/local/lib/python3.7/dist-packages (from plotly->catboost) (1.3.3)\n",
            "Installing collected packages: catboost\n",
            "Successfully installed catboost-0.26.1\n"
          ],
          "name": "stdout"
        }
      ]
    },
    {
      "cell_type": "code",
      "metadata": {
        "id": "dt08Wd9m7idX",
        "outputId": "ea19fc54-e0be-4abd-f700-0e8614067c39",
        "colab": {
          "base_uri": "https://localhost:8080/"
        }
      },
      "source": [
        "from sklearn.model_selection import train_test_split\n",
        "X_train, X_test, y_train, y_test = train_test_split(X,y,test_size=0.2,random_state=8)\n",
        "from catboost import CatBoostRegressor\n",
        "CB = CatBoostRegressor(iterations=603,\n",
        "                          learning_rate=0.35,\n",
        "                          depth=8)\n",
        "CB.fit(X_train,y_train)"
      ],
      "execution_count": 35,
      "outputs": [
        {
          "output_type": "stream",
          "text": [
            "0:\tlearn: 0.2116434\ttotal: 50.7ms\tremaining: 30.5s\n",
            "1:\tlearn: 0.1999766\ttotal: 55.8ms\tremaining: 16.8s\n",
            "2:\tlearn: 0.1844504\ttotal: 59.2ms\tremaining: 11.8s\n",
            "3:\tlearn: 0.1723032\ttotal: 62.3ms\tremaining: 9.34s\n",
            "4:\tlearn: 0.1625564\ttotal: 65.7ms\tremaining: 7.86s\n",
            "5:\tlearn: 0.1568749\ttotal: 69ms\tremaining: 6.86s\n",
            "6:\tlearn: 0.1500482\ttotal: 72.3ms\tremaining: 6.15s\n",
            "7:\tlearn: 0.1457983\ttotal: 75.5ms\tremaining: 5.61s\n",
            "8:\tlearn: 0.1397465\ttotal: 78.7ms\tremaining: 5.2s\n",
            "9:\tlearn: 0.1358113\ttotal: 81.9ms\tremaining: 4.86s\n",
            "10:\tlearn: 0.1328120\ttotal: 85.5ms\tremaining: 4.6s\n",
            "11:\tlearn: 0.1296155\ttotal: 88.8ms\tremaining: 4.37s\n",
            "12:\tlearn: 0.1250442\ttotal: 92.1ms\tremaining: 4.18s\n",
            "13:\tlearn: 0.1214010\ttotal: 95.4ms\tremaining: 4.01s\n",
            "14:\tlearn: 0.1183302\ttotal: 98.9ms\tremaining: 3.88s\n",
            "15:\tlearn: 0.1145268\ttotal: 102ms\tremaining: 3.75s\n",
            "16:\tlearn: 0.1097663\ttotal: 105ms\tremaining: 3.63s\n",
            "17:\tlearn: 0.1072627\ttotal: 108ms\tremaining: 3.52s\n",
            "18:\tlearn: 0.1043360\ttotal: 112ms\tremaining: 3.43s\n",
            "19:\tlearn: 0.0996327\ttotal: 115ms\tremaining: 3.36s\n",
            "20:\tlearn: 0.0983276\ttotal: 119ms\tremaining: 3.29s\n",
            "21:\tlearn: 0.0953155\ttotal: 122ms\tremaining: 3.22s\n",
            "22:\tlearn: 0.0913000\ttotal: 125ms\tremaining: 3.16s\n",
            "23:\tlearn: 0.0877774\ttotal: 129ms\tremaining: 3.1s\n",
            "24:\tlearn: 0.0859570\ttotal: 132ms\tremaining: 3.05s\n",
            "25:\tlearn: 0.0819716\ttotal: 135ms\tremaining: 3s\n",
            "26:\tlearn: 0.0777917\ttotal: 138ms\tremaining: 2.95s\n",
            "27:\tlearn: 0.0772043\ttotal: 142ms\tremaining: 2.91s\n",
            "28:\tlearn: 0.0749230\ttotal: 145ms\tremaining: 2.87s\n",
            "29:\tlearn: 0.0743440\ttotal: 148ms\tremaining: 2.83s\n",
            "30:\tlearn: 0.0711114\ttotal: 152ms\tremaining: 2.8s\n",
            "31:\tlearn: 0.0705037\ttotal: 155ms\tremaining: 2.77s\n",
            "32:\tlearn: 0.0697980\ttotal: 158ms\tremaining: 2.73s\n",
            "33:\tlearn: 0.0676970\ttotal: 162ms\tremaining: 2.7s\n",
            "34:\tlearn: 0.0647440\ttotal: 168ms\tremaining: 2.72s\n",
            "35:\tlearn: 0.0627894\ttotal: 171ms\tremaining: 2.69s\n",
            "36:\tlearn: 0.0627073\ttotal: 175ms\tremaining: 2.67s\n",
            "37:\tlearn: 0.0615932\ttotal: 178ms\tremaining: 2.65s\n",
            "38:\tlearn: 0.0615256\ttotal: 181ms\tremaining: 2.62s\n",
            "39:\tlearn: 0.0589567\ttotal: 185ms\tremaining: 2.6s\n",
            "40:\tlearn: 0.0571881\ttotal: 188ms\tremaining: 2.58s\n",
            "41:\tlearn: 0.0557520\ttotal: 191ms\tremaining: 2.55s\n",
            "42:\tlearn: 0.0542912\ttotal: 195ms\tremaining: 2.53s\n",
            "43:\tlearn: 0.0525909\ttotal: 198ms\tremaining: 2.52s\n",
            "44:\tlearn: 0.0508743\ttotal: 201ms\tremaining: 2.5s\n",
            "45:\tlearn: 0.0488022\ttotal: 204ms\tremaining: 2.48s\n",
            "46:\tlearn: 0.0471541\ttotal: 208ms\tremaining: 2.46s\n",
            "47:\tlearn: 0.0464878\ttotal: 211ms\tremaining: 2.44s\n",
            "48:\tlearn: 0.0457114\ttotal: 214ms\tremaining: 2.42s\n",
            "49:\tlearn: 0.0445269\ttotal: 217ms\tremaining: 2.4s\n",
            "50:\tlearn: 0.0439135\ttotal: 221ms\tremaining: 2.39s\n",
            "51:\tlearn: 0.0430031\ttotal: 224ms\tremaining: 2.37s\n",
            "52:\tlearn: 0.0417362\ttotal: 227ms\tremaining: 2.36s\n",
            "53:\tlearn: 0.0409883\ttotal: 230ms\tremaining: 2.34s\n",
            "54:\tlearn: 0.0400062\ttotal: 234ms\tremaining: 2.33s\n",
            "55:\tlearn: 0.0397864\ttotal: 237ms\tremaining: 2.31s\n",
            "56:\tlearn: 0.0386951\ttotal: 241ms\tremaining: 2.31s\n",
            "57:\tlearn: 0.0377361\ttotal: 249ms\tremaining: 2.33s\n",
            "58:\tlearn: 0.0370109\ttotal: 252ms\tremaining: 2.32s\n",
            "59:\tlearn: 0.0360935\ttotal: 255ms\tremaining: 2.31s\n",
            "60:\tlearn: 0.0354567\ttotal: 258ms\tremaining: 2.29s\n",
            "61:\tlearn: 0.0350416\ttotal: 261ms\tremaining: 2.28s\n",
            "62:\tlearn: 0.0347504\ttotal: 263ms\tremaining: 2.25s\n",
            "63:\tlearn: 0.0344714\ttotal: 266ms\tremaining: 2.24s\n",
            "64:\tlearn: 0.0337754\ttotal: 268ms\tremaining: 2.22s\n",
            "65:\tlearn: 0.0333753\ttotal: 271ms\tremaining: 2.21s\n",
            "66:\tlearn: 0.0328418\ttotal: 274ms\tremaining: 2.19s\n",
            "67:\tlearn: 0.0319373\ttotal: 277ms\tremaining: 2.18s\n",
            "68:\tlearn: 0.0315289\ttotal: 280ms\tremaining: 2.16s\n",
            "69:\tlearn: 0.0306730\ttotal: 283ms\tremaining: 2.15s\n",
            "70:\tlearn: 0.0298928\ttotal: 285ms\tremaining: 2.14s\n",
            "71:\tlearn: 0.0297061\ttotal: 288ms\tremaining: 2.13s\n",
            "72:\tlearn: 0.0293802\ttotal: 292ms\tremaining: 2.12s\n",
            "73:\tlearn: 0.0285057\ttotal: 295ms\tremaining: 2.11s\n",
            "74:\tlearn: 0.0281248\ttotal: 298ms\tremaining: 2.1s\n",
            "75:\tlearn: 0.0277970\ttotal: 302ms\tremaining: 2.09s\n",
            "76:\tlearn: 0.0271704\ttotal: 305ms\tremaining: 2.08s\n",
            "77:\tlearn: 0.0269217\ttotal: 308ms\tremaining: 2.07s\n",
            "78:\tlearn: 0.0259175\ttotal: 311ms\tremaining: 2.06s\n",
            "79:\tlearn: 0.0248900\ttotal: 315ms\tremaining: 2.06s\n",
            "80:\tlearn: 0.0244930\ttotal: 318ms\tremaining: 2.05s\n",
            "81:\tlearn: 0.0241426\ttotal: 321ms\tremaining: 2.04s\n",
            "82:\tlearn: 0.0240890\ttotal: 324ms\tremaining: 2.03s\n",
            "83:\tlearn: 0.0236644\ttotal: 327ms\tremaining: 2.02s\n",
            "84:\tlearn: 0.0234181\ttotal: 331ms\tremaining: 2.02s\n",
            "85:\tlearn: 0.0229668\ttotal: 334ms\tremaining: 2.01s\n",
            "86:\tlearn: 0.0228436\ttotal: 337ms\tremaining: 2s\n",
            "87:\tlearn: 0.0226242\ttotal: 340ms\tremaining: 1.99s\n",
            "88:\tlearn: 0.0226130\ttotal: 344ms\tremaining: 1.98s\n",
            "89:\tlearn: 0.0221965\ttotal: 347ms\tremaining: 1.98s\n",
            "90:\tlearn: 0.0215280\ttotal: 350ms\tremaining: 1.97s\n",
            "91:\tlearn: 0.0211895\ttotal: 354ms\tremaining: 1.96s\n",
            "92:\tlearn: 0.0210887\ttotal: 355ms\tremaining: 1.95s\n",
            "93:\tlearn: 0.0206973\ttotal: 358ms\tremaining: 1.94s\n",
            "94:\tlearn: 0.0203375\ttotal: 364ms\tremaining: 1.95s\n",
            "95:\tlearn: 0.0203164\ttotal: 368ms\tremaining: 1.94s\n",
            "96:\tlearn: 0.0199288\ttotal: 371ms\tremaining: 1.93s\n",
            "97:\tlearn: 0.0197482\ttotal: 374ms\tremaining: 1.93s\n",
            "98:\tlearn: 0.0195993\ttotal: 377ms\tremaining: 1.92s\n",
            "99:\tlearn: 0.0193374\ttotal: 381ms\tremaining: 1.91s\n",
            "100:\tlearn: 0.0189438\ttotal: 384ms\tremaining: 1.91s\n",
            "101:\tlearn: 0.0187066\ttotal: 387ms\tremaining: 1.9s\n",
            "102:\tlearn: 0.0184068\ttotal: 390ms\tremaining: 1.89s\n",
            "103:\tlearn: 0.0179975\ttotal: 393ms\tremaining: 1.89s\n",
            "104:\tlearn: 0.0178710\ttotal: 397ms\tremaining: 1.88s\n",
            "105:\tlearn: 0.0175717\ttotal: 400ms\tremaining: 1.88s\n",
            "106:\tlearn: 0.0172691\ttotal: 404ms\tremaining: 1.87s\n",
            "107:\tlearn: 0.0169735\ttotal: 407ms\tremaining: 1.86s\n",
            "108:\tlearn: 0.0167920\ttotal: 411ms\tremaining: 1.86s\n",
            "109:\tlearn: 0.0166947\ttotal: 414ms\tremaining: 1.86s\n",
            "110:\tlearn: 0.0163715\ttotal: 418ms\tremaining: 1.85s\n",
            "111:\tlearn: 0.0161225\ttotal: 421ms\tremaining: 1.84s\n",
            "112:\tlearn: 0.0160079\ttotal: 425ms\tremaining: 1.84s\n",
            "113:\tlearn: 0.0154697\ttotal: 435ms\tremaining: 1.86s\n",
            "114:\tlearn: 0.0153752\ttotal: 438ms\tremaining: 1.86s\n",
            "115:\tlearn: 0.0153128\ttotal: 439ms\tremaining: 1.84s\n",
            "116:\tlearn: 0.0150738\ttotal: 443ms\tremaining: 1.84s\n",
            "117:\tlearn: 0.0147879\ttotal: 446ms\tremaining: 1.83s\n",
            "118:\tlearn: 0.0144365\ttotal: 449ms\tremaining: 1.83s\n",
            "119:\tlearn: 0.0143639\ttotal: 451ms\tremaining: 1.81s\n",
            "120:\tlearn: 0.0141225\ttotal: 455ms\tremaining: 1.81s\n",
            "121:\tlearn: 0.0139463\ttotal: 458ms\tremaining: 1.8s\n",
            "122:\tlearn: 0.0138687\ttotal: 461ms\tremaining: 1.8s\n",
            "123:\tlearn: 0.0137705\ttotal: 464ms\tremaining: 1.79s\n",
            "124:\tlearn: 0.0135567\ttotal: 468ms\tremaining: 1.79s\n",
            "125:\tlearn: 0.0132164\ttotal: 471ms\tremaining: 1.78s\n",
            "126:\tlearn: 0.0128537\ttotal: 475ms\tremaining: 1.78s\n",
            "127:\tlearn: 0.0127554\ttotal: 479ms\tremaining: 1.77s\n",
            "128:\tlearn: 0.0126438\ttotal: 482ms\tremaining: 1.77s\n",
            "129:\tlearn: 0.0124740\ttotal: 485ms\tremaining: 1.76s\n",
            "130:\tlearn: 0.0122518\ttotal: 489ms\tremaining: 1.76s\n",
            "131:\tlearn: 0.0119690\ttotal: 492ms\tremaining: 1.75s\n",
            "132:\tlearn: 0.0118721\ttotal: 495ms\tremaining: 1.75s\n",
            "133:\tlearn: 0.0118298\ttotal: 498ms\tremaining: 1.74s\n",
            "134:\tlearn: 0.0117519\ttotal: 502ms\tremaining: 1.74s\n",
            "135:\tlearn: 0.0115851\ttotal: 505ms\tremaining: 1.73s\n",
            "136:\tlearn: 0.0114178\ttotal: 509ms\tremaining: 1.73s\n",
            "137:\tlearn: 0.0111758\ttotal: 512ms\tremaining: 1.73s\n",
            "138:\tlearn: 0.0109640\ttotal: 515ms\tremaining: 1.72s\n",
            "139:\tlearn: 0.0107696\ttotal: 519ms\tremaining: 1.72s\n",
            "140:\tlearn: 0.0106626\ttotal: 522ms\tremaining: 1.71s\n",
            "141:\tlearn: 0.0104513\ttotal: 525ms\tremaining: 1.71s\n",
            "142:\tlearn: 0.0102256\ttotal: 529ms\tremaining: 1.7s\n",
            "143:\tlearn: 0.0101460\ttotal: 532ms\tremaining: 1.7s\n",
            "144:\tlearn: 0.0100591\ttotal: 536ms\tremaining: 1.69s\n",
            "145:\tlearn: 0.0099556\ttotal: 539ms\tremaining: 1.69s\n",
            "146:\tlearn: 0.0097923\ttotal: 542ms\tremaining: 1.68s\n",
            "147:\tlearn: 0.0095851\ttotal: 546ms\tremaining: 1.68s\n",
            "148:\tlearn: 0.0094588\ttotal: 549ms\tremaining: 1.67s\n",
            "149:\tlearn: 0.0093209\ttotal: 553ms\tremaining: 1.67s\n",
            "150:\tlearn: 0.0092465\ttotal: 556ms\tremaining: 1.66s\n",
            "151:\tlearn: 0.0092099\ttotal: 559ms\tremaining: 1.66s\n",
            "152:\tlearn: 0.0090605\ttotal: 564ms\tremaining: 1.66s\n",
            "153:\tlearn: 0.0090010\ttotal: 567ms\tremaining: 1.65s\n",
            "154:\tlearn: 0.0089611\ttotal: 570ms\tremaining: 1.65s\n",
            "155:\tlearn: 0.0088792\ttotal: 574ms\tremaining: 1.64s\n",
            "156:\tlearn: 0.0087886\ttotal: 577ms\tremaining: 1.64s\n",
            "157:\tlearn: 0.0087110\ttotal: 580ms\tremaining: 1.63s\n",
            "158:\tlearn: 0.0085258\ttotal: 584ms\tremaining: 1.63s\n",
            "159:\tlearn: 0.0083154\ttotal: 587ms\tremaining: 1.63s\n",
            "160:\tlearn: 0.0081801\ttotal: 590ms\tremaining: 1.62s\n",
            "161:\tlearn: 0.0081272\ttotal: 594ms\tremaining: 1.62s\n",
            "162:\tlearn: 0.0081096\ttotal: 597ms\tremaining: 1.61s\n",
            "163:\tlearn: 0.0080585\ttotal: 603ms\tremaining: 1.61s\n",
            "164:\tlearn: 0.0079268\ttotal: 607ms\tremaining: 1.61s\n",
            "165:\tlearn: 0.0078488\ttotal: 610ms\tremaining: 1.61s\n",
            "166:\tlearn: 0.0077330\ttotal: 614ms\tremaining: 1.6s\n",
            "167:\tlearn: 0.0076945\ttotal: 617ms\tremaining: 1.6s\n",
            "168:\tlearn: 0.0075771\ttotal: 620ms\tremaining: 1.59s\n",
            "169:\tlearn: 0.0075208\ttotal: 638ms\tremaining: 1.63s\n",
            "170:\tlearn: 0.0074371\ttotal: 643ms\tremaining: 1.62s\n",
            "171:\tlearn: 0.0073718\ttotal: 646ms\tremaining: 1.62s\n",
            "172:\tlearn: 0.0072889\ttotal: 649ms\tremaining: 1.61s\n",
            "173:\tlearn: 0.0071275\ttotal: 653ms\tremaining: 1.61s\n",
            "174:\tlearn: 0.0070314\ttotal: 656ms\tremaining: 1.6s\n",
            "175:\tlearn: 0.0069262\ttotal: 660ms\tremaining: 1.6s\n",
            "176:\tlearn: 0.0068464\ttotal: 663ms\tremaining: 1.6s\n",
            "177:\tlearn: 0.0067811\ttotal: 667ms\tremaining: 1.59s\n",
            "178:\tlearn: 0.0067608\ttotal: 670ms\tremaining: 1.59s\n",
            "179:\tlearn: 0.0067142\ttotal: 673ms\tremaining: 1.58s\n",
            "180:\tlearn: 0.0066536\ttotal: 677ms\tremaining: 1.58s\n",
            "181:\tlearn: 0.0066276\ttotal: 680ms\tremaining: 1.57s\n",
            "182:\tlearn: 0.0065462\ttotal: 683ms\tremaining: 1.57s\n",
            "183:\tlearn: 0.0065263\ttotal: 687ms\tremaining: 1.56s\n",
            "184:\tlearn: 0.0064564\ttotal: 690ms\tremaining: 1.56s\n",
            "185:\tlearn: 0.0064032\ttotal: 693ms\tremaining: 1.55s\n",
            "186:\tlearn: 0.0063157\ttotal: 697ms\tremaining: 1.55s\n",
            "187:\tlearn: 0.0062235\ttotal: 700ms\tremaining: 1.54s\n",
            "188:\tlearn: 0.0061967\ttotal: 703ms\tremaining: 1.54s\n",
            "189:\tlearn: 0.0061716\ttotal: 707ms\tremaining: 1.54s\n",
            "190:\tlearn: 0.0060920\ttotal: 710ms\tremaining: 1.53s\n",
            "191:\tlearn: 0.0060374\ttotal: 713ms\tremaining: 1.53s\n",
            "192:\tlearn: 0.0059811\ttotal: 717ms\tremaining: 1.52s\n",
            "193:\tlearn: 0.0058632\ttotal: 720ms\tremaining: 1.52s\n",
            "194:\tlearn: 0.0058301\ttotal: 723ms\tremaining: 1.51s\n",
            "195:\tlearn: 0.0057426\ttotal: 726ms\tremaining: 1.51s\n",
            "196:\tlearn: 0.0056680\ttotal: 730ms\tremaining: 1.5s\n",
            "197:\tlearn: 0.0056204\ttotal: 733ms\tremaining: 1.5s\n",
            "198:\tlearn: 0.0055828\ttotal: 736ms\tremaining: 1.49s\n",
            "199:\tlearn: 0.0055246\ttotal: 740ms\tremaining: 1.49s\n",
            "200:\tlearn: 0.0054406\ttotal: 743ms\tremaining: 1.49s\n",
            "201:\tlearn: 0.0053660\ttotal: 747ms\tremaining: 1.48s\n",
            "202:\tlearn: 0.0053244\ttotal: 750ms\tremaining: 1.48s\n",
            "203:\tlearn: 0.0052888\ttotal: 753ms\tremaining: 1.47s\n",
            "204:\tlearn: 0.0052694\ttotal: 754ms\tremaining: 1.46s\n",
            "205:\tlearn: 0.0052389\ttotal: 758ms\tremaining: 1.46s\n",
            "206:\tlearn: 0.0051892\ttotal: 761ms\tremaining: 1.46s\n",
            "207:\tlearn: 0.0051742\ttotal: 762ms\tremaining: 1.45s\n",
            "208:\tlearn: 0.0050977\ttotal: 765ms\tremaining: 1.44s\n",
            "209:\tlearn: 0.0050896\ttotal: 770ms\tremaining: 1.44s\n",
            "210:\tlearn: 0.0050475\ttotal: 774ms\tremaining: 1.44s\n",
            "211:\tlearn: 0.0050315\ttotal: 778ms\tremaining: 1.43s\n",
            "212:\tlearn: 0.0049175\ttotal: 781ms\tremaining: 1.43s\n",
            "213:\tlearn: 0.0048966\ttotal: 784ms\tremaining: 1.43s\n",
            "214:\tlearn: 0.0048703\ttotal: 788ms\tremaining: 1.42s\n",
            "215:\tlearn: 0.0048520\ttotal: 791ms\tremaining: 1.42s\n",
            "216:\tlearn: 0.0048170\ttotal: 794ms\tremaining: 1.41s\n",
            "217:\tlearn: 0.0047931\ttotal: 798ms\tremaining: 1.41s\n",
            "218:\tlearn: 0.0047331\ttotal: 801ms\tremaining: 1.4s\n",
            "219:\tlearn: 0.0046703\ttotal: 804ms\tremaining: 1.4s\n",
            "220:\tlearn: 0.0046631\ttotal: 808ms\tremaining: 1.4s\n",
            "221:\tlearn: 0.0046510\ttotal: 811ms\tremaining: 1.39s\n",
            "222:\tlearn: 0.0045589\ttotal: 814ms\tremaining: 1.39s\n",
            "223:\tlearn: 0.0045227\ttotal: 817ms\tremaining: 1.38s\n",
            "224:\tlearn: 0.0044157\ttotal: 822ms\tremaining: 1.38s\n",
            "225:\tlearn: 0.0043794\ttotal: 831ms\tremaining: 1.39s\n",
            "226:\tlearn: 0.0043662\ttotal: 836ms\tremaining: 1.39s\n",
            "227:\tlearn: 0.0043144\ttotal: 839ms\tremaining: 1.38s\n",
            "228:\tlearn: 0.0042110\ttotal: 842ms\tremaining: 1.38s\n",
            "229:\tlearn: 0.0042063\ttotal: 843ms\tremaining: 1.37s\n",
            "230:\tlearn: 0.0041891\ttotal: 846ms\tremaining: 1.36s\n",
            "231:\tlearn: 0.0041733\ttotal: 849ms\tremaining: 1.36s\n",
            "232:\tlearn: 0.0041236\ttotal: 852ms\tremaining: 1.35s\n",
            "233:\tlearn: 0.0041116\ttotal: 854ms\tremaining: 1.35s\n",
            "234:\tlearn: 0.0040661\ttotal: 858ms\tremaining: 1.34s\n",
            "235:\tlearn: 0.0039998\ttotal: 861ms\tremaining: 1.34s\n",
            "236:\tlearn: 0.0039700\ttotal: 864ms\tremaining: 1.33s\n",
            "237:\tlearn: 0.0039641\ttotal: 867ms\tremaining: 1.33s\n",
            "238:\tlearn: 0.0038909\ttotal: 870ms\tremaining: 1.32s\n",
            "239:\tlearn: 0.0038142\ttotal: 874ms\tremaining: 1.32s\n",
            "240:\tlearn: 0.0037859\ttotal: 877ms\tremaining: 1.32s\n",
            "241:\tlearn: 0.0037717\ttotal: 880ms\tremaining: 1.31s\n",
            "242:\tlearn: 0.0037129\ttotal: 884ms\tremaining: 1.31s\n",
            "243:\tlearn: 0.0037000\ttotal: 887ms\tremaining: 1.3s\n",
            "244:\tlearn: 0.0036743\ttotal: 890ms\tremaining: 1.3s\n",
            "245:\tlearn: 0.0036492\ttotal: 893ms\tremaining: 1.3s\n",
            "246:\tlearn: 0.0036219\ttotal: 897ms\tremaining: 1.29s\n",
            "247:\tlearn: 0.0036067\ttotal: 900ms\tremaining: 1.29s\n",
            "248:\tlearn: 0.0035633\ttotal: 903ms\tremaining: 1.28s\n",
            "249:\tlearn: 0.0035431\ttotal: 906ms\tremaining: 1.28s\n",
            "250:\tlearn: 0.0035015\ttotal: 911ms\tremaining: 1.28s\n",
            "251:\tlearn: 0.0034707\ttotal: 914ms\tremaining: 1.27s\n",
            "252:\tlearn: 0.0034510\ttotal: 917ms\tremaining: 1.27s\n",
            "253:\tlearn: 0.0034285\ttotal: 921ms\tremaining: 1.26s\n",
            "254:\tlearn: 0.0033820\ttotal: 924ms\tremaining: 1.26s\n",
            "255:\tlearn: 0.0033686\ttotal: 927ms\tremaining: 1.26s\n",
            "256:\tlearn: 0.0033405\ttotal: 931ms\tremaining: 1.25s\n",
            "257:\tlearn: 0.0032973\ttotal: 934ms\tremaining: 1.25s\n",
            "258:\tlearn: 0.0032925\ttotal: 937ms\tremaining: 1.24s\n",
            "259:\tlearn: 0.0032454\ttotal: 941ms\tremaining: 1.24s\n",
            "260:\tlearn: 0.0032105\ttotal: 944ms\tremaining: 1.24s\n",
            "261:\tlearn: 0.0031822\ttotal: 947ms\tremaining: 1.23s\n",
            "262:\tlearn: 0.0031559\ttotal: 950ms\tremaining: 1.23s\n",
            "263:\tlearn: 0.0031332\ttotal: 954ms\tremaining: 1.22s\n",
            "264:\tlearn: 0.0030806\ttotal: 957ms\tremaining: 1.22s\n",
            "265:\tlearn: 0.0030494\ttotal: 960ms\tremaining: 1.22s\n",
            "266:\tlearn: 0.0029942\ttotal: 963ms\tremaining: 1.21s\n",
            "267:\tlearn: 0.0029478\ttotal: 967ms\tremaining: 1.21s\n",
            "268:\tlearn: 0.0029381\ttotal: 970ms\tremaining: 1.2s\n",
            "269:\tlearn: 0.0029120\ttotal: 973ms\tremaining: 1.2s\n",
            "270:\tlearn: 0.0028829\ttotal: 976ms\tremaining: 1.2s\n",
            "271:\tlearn: 0.0028510\ttotal: 980ms\tremaining: 1.19s\n",
            "272:\tlearn: 0.0028127\ttotal: 983ms\tremaining: 1.19s\n",
            "273:\tlearn: 0.0027741\ttotal: 986ms\tremaining: 1.18s\n",
            "274:\tlearn: 0.0027628\ttotal: 989ms\tremaining: 1.18s\n",
            "275:\tlearn: 0.0027335\ttotal: 992ms\tremaining: 1.18s\n",
            "276:\tlearn: 0.0027202\ttotal: 995ms\tremaining: 1.17s\n",
            "277:\tlearn: 0.0026480\ttotal: 998ms\tremaining: 1.17s\n",
            "278:\tlearn: 0.0026300\ttotal: 1s\tremaining: 1.16s\n",
            "279:\tlearn: 0.0025918\ttotal: 1.01s\tremaining: 1.16s\n",
            "280:\tlearn: 0.0025691\ttotal: 1.01s\tremaining: 1.16s\n",
            "281:\tlearn: 0.0025357\ttotal: 1.01s\tremaining: 1.15s\n",
            "282:\tlearn: 0.0025122\ttotal: 1.02s\tremaining: 1.15s\n",
            "283:\tlearn: 0.0024918\ttotal: 1.03s\tremaining: 1.15s\n",
            "284:\tlearn: 0.0024477\ttotal: 1.03s\tremaining: 1.15s\n",
            "285:\tlearn: 0.0024471\ttotal: 1.03s\tremaining: 1.14s\n",
            "286:\tlearn: 0.0024367\ttotal: 1.03s\tremaining: 1.14s\n",
            "287:\tlearn: 0.0024292\ttotal: 1.04s\tremaining: 1.14s\n",
            "288:\tlearn: 0.0024007\ttotal: 1.04s\tremaining: 1.13s\n",
            "289:\tlearn: 0.0023922\ttotal: 1.04s\tremaining: 1.13s\n",
            "290:\tlearn: 0.0023769\ttotal: 1.05s\tremaining: 1.12s\n",
            "291:\tlearn: 0.0023635\ttotal: 1.05s\tremaining: 1.12s\n",
            "292:\tlearn: 0.0023292\ttotal: 1.05s\tremaining: 1.11s\n",
            "293:\tlearn: 0.0023244\ttotal: 1.06s\tremaining: 1.11s\n",
            "294:\tlearn: 0.0023072\ttotal: 1.06s\tremaining: 1.11s\n",
            "295:\tlearn: 0.0022657\ttotal: 1.06s\tremaining: 1.1s\n",
            "296:\tlearn: 0.0022654\ttotal: 1.07s\tremaining: 1.1s\n",
            "297:\tlearn: 0.0022596\ttotal: 1.07s\tremaining: 1.1s\n",
            "298:\tlearn: 0.0022295\ttotal: 1.07s\tremaining: 1.09s\n",
            "299:\tlearn: 0.0022218\ttotal: 1.08s\tremaining: 1.09s\n",
            "300:\tlearn: 0.0021948\ttotal: 1.08s\tremaining: 1.08s\n",
            "301:\tlearn: 0.0021639\ttotal: 1.08s\tremaining: 1.08s\n",
            "302:\tlearn: 0.0021502\ttotal: 1.09s\tremaining: 1.08s\n",
            "303:\tlearn: 0.0021452\ttotal: 1.09s\tremaining: 1.07s\n",
            "304:\tlearn: 0.0021290\ttotal: 1.09s\tremaining: 1.07s\n",
            "305:\tlearn: 0.0021102\ttotal: 1.1s\tremaining: 1.07s\n",
            "306:\tlearn: 0.0020831\ttotal: 1.1s\tremaining: 1.06s\n",
            "307:\tlearn: 0.0020672\ttotal: 1.1s\tremaining: 1.06s\n",
            "308:\tlearn: 0.0020473\ttotal: 1.11s\tremaining: 1.05s\n",
            "309:\tlearn: 0.0020312\ttotal: 1.11s\tremaining: 1.05s\n",
            "310:\tlearn: 0.0020251\ttotal: 1.11s\tremaining: 1.05s\n",
            "311:\tlearn: 0.0019973\ttotal: 1.12s\tremaining: 1.04s\n",
            "312:\tlearn: 0.0019824\ttotal: 1.12s\tremaining: 1.04s\n",
            "313:\tlearn: 0.0019711\ttotal: 1.12s\tremaining: 1.03s\n",
            "314:\tlearn: 0.0019506\ttotal: 1.13s\tremaining: 1.03s\n",
            "315:\tlearn: 0.0019447\ttotal: 1.13s\tremaining: 1.03s\n",
            "316:\tlearn: 0.0019399\ttotal: 1.13s\tremaining: 1.02s\n",
            "317:\tlearn: 0.0019262\ttotal: 1.14s\tremaining: 1.02s\n",
            "318:\tlearn: 0.0019124\ttotal: 1.14s\tremaining: 1.02s\n",
            "319:\tlearn: 0.0018991\ttotal: 1.15s\tremaining: 1.01s\n",
            "320:\tlearn: 0.0018889\ttotal: 1.15s\tremaining: 1.01s\n",
            "321:\tlearn: 0.0018661\ttotal: 1.15s\tremaining: 1s\n",
            "322:\tlearn: 0.0018504\ttotal: 1.16s\tremaining: 1s\n",
            "323:\tlearn: 0.0018259\ttotal: 1.16s\tremaining: 998ms\n",
            "324:\tlearn: 0.0018026\ttotal: 1.16s\tremaining: 994ms\n",
            "325:\tlearn: 0.0017703\ttotal: 1.17s\tremaining: 990ms\n",
            "326:\tlearn: 0.0017477\ttotal: 1.17s\tremaining: 986ms\n",
            "327:\tlearn: 0.0017473\ttotal: 1.17s\tremaining: 983ms\n",
            "328:\tlearn: 0.0017348\ttotal: 1.18s\tremaining: 979ms\n",
            "329:\tlearn: 0.0017145\ttotal: 1.18s\tremaining: 975ms\n",
            "330:\tlearn: 0.0017102\ttotal: 1.18s\tremaining: 971ms\n",
            "331:\tlearn: 0.0017010\ttotal: 1.19s\tremaining: 967ms\n",
            "332:\tlearn: 0.0017007\ttotal: 1.19s\tremaining: 964ms\n",
            "333:\tlearn: 0.0016760\ttotal: 1.19s\tremaining: 960ms\n",
            "334:\tlearn: 0.0016727\ttotal: 1.2s\tremaining: 956ms\n",
            "335:\tlearn: 0.0016589\ttotal: 1.2s\tremaining: 952ms\n",
            "336:\tlearn: 0.0016510\ttotal: 1.2s\tremaining: 949ms\n",
            "337:\tlearn: 0.0016505\ttotal: 1.21s\tremaining: 946ms\n",
            "338:\tlearn: 0.0016379\ttotal: 1.21s\tremaining: 944ms\n",
            "339:\tlearn: 0.0016280\ttotal: 1.22s\tremaining: 941ms\n",
            "340:\tlearn: 0.0016044\ttotal: 1.22s\tremaining: 936ms\n",
            "341:\tlearn: 0.0015870\ttotal: 1.22s\tremaining: 932ms\n",
            "342:\tlearn: 0.0015635\ttotal: 1.23s\tremaining: 929ms\n",
            "343:\tlearn: 0.0015361\ttotal: 1.23s\tremaining: 925ms\n",
            "344:\tlearn: 0.0015280\ttotal: 1.23s\tremaining: 921ms\n",
            "345:\tlearn: 0.0015249\ttotal: 1.24s\tremaining: 918ms\n",
            "346:\tlearn: 0.0015182\ttotal: 1.24s\tremaining: 914ms\n",
            "347:\tlearn: 0.0015105\ttotal: 1.24s\tremaining: 910ms\n",
            "348:\tlearn: 0.0015003\ttotal: 1.25s\tremaining: 906ms\n",
            "349:\tlearn: 0.0014961\ttotal: 1.25s\tremaining: 904ms\n",
            "350:\tlearn: 0.0014755\ttotal: 1.25s\tremaining: 900ms\n",
            "351:\tlearn: 0.0014615\ttotal: 1.26s\tremaining: 897ms\n",
            "352:\tlearn: 0.0014405\ttotal: 1.26s\tremaining: 893ms\n",
            "353:\tlearn: 0.0014377\ttotal: 1.26s\tremaining: 889ms\n",
            "354:\tlearn: 0.0014227\ttotal: 1.27s\tremaining: 885ms\n",
            "355:\tlearn: 0.0014157\ttotal: 1.27s\tremaining: 882ms\n",
            "356:\tlearn: 0.0013924\ttotal: 1.27s\tremaining: 878ms\n",
            "357:\tlearn: 0.0013782\ttotal: 1.28s\tremaining: 874ms\n",
            "358:\tlearn: 0.0013690\ttotal: 1.28s\tremaining: 870ms\n",
            "359:\tlearn: 0.0013615\ttotal: 1.28s\tremaining: 866ms\n",
            "360:\tlearn: 0.0013549\ttotal: 1.29s\tremaining: 863ms\n",
            "361:\tlearn: 0.0013420\ttotal: 1.29s\tremaining: 859ms\n",
            "362:\tlearn: 0.0013363\ttotal: 1.29s\tremaining: 855ms\n",
            "363:\tlearn: 0.0013273\ttotal: 1.3s\tremaining: 851ms\n",
            "364:\tlearn: 0.0013110\ttotal: 1.3s\tremaining: 848ms\n",
            "365:\tlearn: 0.0012922\ttotal: 1.3s\tremaining: 844ms\n",
            "366:\tlearn: 0.0012817\ttotal: 1.31s\tremaining: 840ms\n",
            "367:\tlearn: 0.0012680\ttotal: 1.31s\tremaining: 836ms\n",
            "368:\tlearn: 0.0012579\ttotal: 1.31s\tremaining: 832ms\n",
            "369:\tlearn: 0.0012474\ttotal: 1.31s\tremaining: 829ms\n",
            "370:\tlearn: 0.0012353\ttotal: 1.32s\tremaining: 825ms\n",
            "371:\tlearn: 0.0012167\ttotal: 1.32s\tremaining: 821ms\n",
            "372:\tlearn: 0.0011840\ttotal: 1.32s\tremaining: 817ms\n",
            "373:\tlearn: 0.0011697\ttotal: 1.33s\tremaining: 814ms\n",
            "374:\tlearn: 0.0011527\ttotal: 1.33s\tremaining: 810ms\n",
            "375:\tlearn: 0.0011426\ttotal: 1.33s\tremaining: 806ms\n",
            "376:\tlearn: 0.0011311\ttotal: 1.34s\tremaining: 802ms\n",
            "377:\tlearn: 0.0011226\ttotal: 1.34s\tremaining: 799ms\n",
            "378:\tlearn: 0.0011128\ttotal: 1.34s\tremaining: 795ms\n",
            "379:\tlearn: 0.0010896\ttotal: 1.35s\tremaining: 791ms\n",
            "380:\tlearn: 0.0010814\ttotal: 1.35s\tremaining: 787ms\n",
            "381:\tlearn: 0.0010753\ttotal: 1.35s\tremaining: 784ms\n",
            "382:\tlearn: 0.0010677\ttotal: 1.36s\tremaining: 780ms\n",
            "383:\tlearn: 0.0010661\ttotal: 1.36s\tremaining: 776ms\n",
            "384:\tlearn: 0.0010660\ttotal: 1.36s\tremaining: 771ms\n",
            "385:\tlearn: 0.0010480\ttotal: 1.36s\tremaining: 767ms\n",
            "386:\tlearn: 0.0010430\ttotal: 1.37s\tremaining: 764ms\n",
            "387:\tlearn: 0.0010359\ttotal: 1.37s\tremaining: 760ms\n",
            "388:\tlearn: 0.0010284\ttotal: 1.37s\tremaining: 756ms\n",
            "389:\tlearn: 0.0010191\ttotal: 1.38s\tremaining: 752ms\n",
            "390:\tlearn: 0.0010077\ttotal: 1.38s\tremaining: 749ms\n",
            "391:\tlearn: 0.0010013\ttotal: 1.38s\tremaining: 745ms\n",
            "392:\tlearn: 0.0009900\ttotal: 1.39s\tremaining: 741ms\n",
            "393:\tlearn: 0.0009829\ttotal: 1.39s\tremaining: 738ms\n",
            "394:\tlearn: 0.0009781\ttotal: 1.4s\tremaining: 735ms\n",
            "395:\tlearn: 0.0009732\ttotal: 1.4s\tremaining: 732ms\n",
            "396:\tlearn: 0.0009668\ttotal: 1.4s\tremaining: 729ms\n",
            "397:\tlearn: 0.0009464\ttotal: 1.41s\tremaining: 725ms\n",
            "398:\tlearn: 0.0009400\ttotal: 1.41s\tremaining: 721ms\n",
            "399:\tlearn: 0.0009244\ttotal: 1.41s\tremaining: 717ms\n",
            "400:\tlearn: 0.0009215\ttotal: 1.42s\tremaining: 713ms\n",
            "401:\tlearn: 0.0009154\ttotal: 1.42s\tremaining: 710ms\n",
            "402:\tlearn: 0.0009098\ttotal: 1.42s\tremaining: 706ms\n",
            "403:\tlearn: 0.0009004\ttotal: 1.42s\tremaining: 702ms\n",
            "404:\tlearn: 0.0008961\ttotal: 1.43s\tremaining: 698ms\n",
            "405:\tlearn: 0.0008845\ttotal: 1.43s\tremaining: 694ms\n",
            "406:\tlearn: 0.0008832\ttotal: 1.43s\tremaining: 690ms\n",
            "407:\tlearn: 0.0008777\ttotal: 1.44s\tremaining: 687ms\n",
            "408:\tlearn: 0.0008734\ttotal: 1.44s\tremaining: 683ms\n",
            "409:\tlearn: 0.0008653\ttotal: 1.44s\tremaining: 679ms\n",
            "410:\tlearn: 0.0008653\ttotal: 1.44s\tremaining: 674ms\n",
            "411:\tlearn: 0.0008535\ttotal: 1.45s\tremaining: 671ms\n",
            "412:\tlearn: 0.0008424\ttotal: 1.45s\tremaining: 667ms\n",
            "413:\tlearn: 0.0008398\ttotal: 1.45s\tremaining: 664ms\n",
            "414:\tlearn: 0.0008326\ttotal: 1.46s\tremaining: 661ms\n",
            "415:\tlearn: 0.0008287\ttotal: 1.46s\tremaining: 657ms\n",
            "416:\tlearn: 0.0008162\ttotal: 1.46s\tremaining: 653ms\n",
            "417:\tlearn: 0.0008161\ttotal: 1.47s\tremaining: 650ms\n",
            "418:\tlearn: 0.0008016\ttotal: 1.47s\tremaining: 646ms\n",
            "419:\tlearn: 0.0007979\ttotal: 1.47s\tremaining: 643ms\n",
            "420:\tlearn: 0.0007880\ttotal: 1.48s\tremaining: 639ms\n",
            "421:\tlearn: 0.0007864\ttotal: 1.48s\tremaining: 635ms\n",
            "422:\tlearn: 0.0007797\ttotal: 1.48s\tremaining: 632ms\n",
            "423:\tlearn: 0.0007760\ttotal: 1.49s\tremaining: 628ms\n",
            "424:\tlearn: 0.0007716\ttotal: 1.49s\tremaining: 624ms\n",
            "425:\tlearn: 0.0007637\ttotal: 1.5s\tremaining: 622ms\n",
            "426:\tlearn: 0.0007603\ttotal: 1.5s\tremaining: 619ms\n",
            "427:\tlearn: 0.0007566\ttotal: 1.51s\tremaining: 616ms\n",
            "428:\tlearn: 0.0007455\ttotal: 1.51s\tremaining: 613ms\n",
            "429:\tlearn: 0.0007430\ttotal: 1.51s\tremaining: 609ms\n",
            "430:\tlearn: 0.0007364\ttotal: 1.52s\tremaining: 606ms\n",
            "431:\tlearn: 0.0007276\ttotal: 1.52s\tremaining: 602ms\n",
            "432:\tlearn: 0.0007171\ttotal: 1.52s\tremaining: 599ms\n",
            "433:\tlearn: 0.0007098\ttotal: 1.53s\tremaining: 595ms\n",
            "434:\tlearn: 0.0007097\ttotal: 1.53s\tremaining: 592ms\n",
            "435:\tlearn: 0.0007025\ttotal: 1.53s\tremaining: 588ms\n",
            "436:\tlearn: 0.0006907\ttotal: 1.54s\tremaining: 585ms\n",
            "437:\tlearn: 0.0006851\ttotal: 1.54s\tremaining: 581ms\n",
            "438:\tlearn: 0.0006817\ttotal: 1.55s\tremaining: 578ms\n",
            "439:\tlearn: 0.0006767\ttotal: 1.55s\tremaining: 574ms\n",
            "440:\tlearn: 0.0006752\ttotal: 1.55s\tremaining: 571ms\n",
            "441:\tlearn: 0.0006704\ttotal: 1.56s\tremaining: 567ms\n",
            "442:\tlearn: 0.0006659\ttotal: 1.56s\tremaining: 564ms\n",
            "443:\tlearn: 0.0006515\ttotal: 1.57s\tremaining: 563ms\n",
            "444:\tlearn: 0.0006452\ttotal: 1.58s\tremaining: 560ms\n",
            "445:\tlearn: 0.0006337\ttotal: 1.58s\tremaining: 557ms\n",
            "446:\tlearn: 0.0006271\ttotal: 1.59s\tremaining: 555ms\n",
            "447:\tlearn: 0.0006187\ttotal: 1.59s\tremaining: 551ms\n",
            "448:\tlearn: 0.0006135\ttotal: 1.6s\tremaining: 548ms\n",
            "449:\tlearn: 0.0006119\ttotal: 1.6s\tremaining: 543ms\n",
            "450:\tlearn: 0.0006046\ttotal: 1.6s\tremaining: 540ms\n",
            "451:\tlearn: 0.0006037\ttotal: 1.6s\tremaining: 536ms\n",
            "452:\tlearn: 0.0005998\ttotal: 1.61s\tremaining: 532ms\n",
            "453:\tlearn: 0.0005985\ttotal: 1.61s\tremaining: 528ms\n",
            "454:\tlearn: 0.0005980\ttotal: 1.61s\tremaining: 525ms\n",
            "455:\tlearn: 0.0005943\ttotal: 1.62s\tremaining: 521ms\n",
            "456:\tlearn: 0.0005906\ttotal: 1.62s\tremaining: 518ms\n",
            "457:\tlearn: 0.0005863\ttotal: 1.62s\tremaining: 514ms\n",
            "458:\tlearn: 0.0005860\ttotal: 1.63s\tremaining: 510ms\n",
            "459:\tlearn: 0.0005833\ttotal: 1.63s\tremaining: 507ms\n",
            "460:\tlearn: 0.0005833\ttotal: 1.63s\tremaining: 503ms\n",
            "461:\tlearn: 0.0005756\ttotal: 1.64s\tremaining: 499ms\n",
            "462:\tlearn: 0.0005672\ttotal: 1.64s\tremaining: 496ms\n",
            "463:\tlearn: 0.0005652\ttotal: 1.64s\tremaining: 492ms\n",
            "464:\tlearn: 0.0005639\ttotal: 1.65s\tremaining: 489ms\n",
            "465:\tlearn: 0.0005603\ttotal: 1.65s\tremaining: 485ms\n",
            "466:\tlearn: 0.0005603\ttotal: 1.66s\tremaining: 483ms\n",
            "467:\tlearn: 0.0005562\ttotal: 1.66s\tremaining: 479ms\n",
            "468:\tlearn: 0.0005469\ttotal: 1.67s\tremaining: 476ms\n",
            "469:\tlearn: 0.0005389\ttotal: 1.67s\tremaining: 472ms\n",
            "470:\tlearn: 0.0005360\ttotal: 1.67s\tremaining: 469ms\n",
            "471:\tlearn: 0.0005336\ttotal: 1.67s\tremaining: 465ms\n",
            "472:\tlearn: 0.0005293\ttotal: 1.68s\tremaining: 461ms\n",
            "473:\tlearn: 0.0005265\ttotal: 1.68s\tremaining: 457ms\n",
            "474:\tlearn: 0.0005254\ttotal: 1.68s\tremaining: 454ms\n",
            "475:\tlearn: 0.0005218\ttotal: 1.69s\tremaining: 450ms\n",
            "476:\tlearn: 0.0005169\ttotal: 1.69s\tremaining: 447ms\n",
            "477:\tlearn: 0.0005130\ttotal: 1.7s\tremaining: 444ms\n",
            "478:\tlearn: 0.0005053\ttotal: 1.7s\tremaining: 440ms\n",
            "479:\tlearn: 0.0005053\ttotal: 1.7s\tremaining: 437ms\n",
            "480:\tlearn: 0.0005021\ttotal: 1.71s\tremaining: 433ms\n",
            "481:\tlearn: 0.0004984\ttotal: 1.71s\tremaining: 430ms\n",
            "482:\tlearn: 0.0004950\ttotal: 1.71s\tremaining: 426ms\n",
            "483:\tlearn: 0.0004914\ttotal: 1.72s\tremaining: 422ms\n",
            "484:\tlearn: 0.0004839\ttotal: 1.72s\tremaining: 419ms\n",
            "485:\tlearn: 0.0004813\ttotal: 1.72s\tremaining: 415ms\n",
            "486:\tlearn: 0.0004800\ttotal: 1.73s\tremaining: 412ms\n",
            "487:\tlearn: 0.0004763\ttotal: 1.73s\tremaining: 408ms\n",
            "488:\tlearn: 0.0004691\ttotal: 1.73s\tremaining: 404ms\n",
            "489:\tlearn: 0.0004673\ttotal: 1.74s\tremaining: 401ms\n",
            "490:\tlearn: 0.0004624\ttotal: 1.74s\tremaining: 397ms\n",
            "491:\tlearn: 0.0004575\ttotal: 1.74s\tremaining: 393ms\n",
            "492:\tlearn: 0.0004568\ttotal: 1.75s\tremaining: 390ms\n",
            "493:\tlearn: 0.0004541\ttotal: 1.75s\tremaining: 386ms\n",
            "494:\tlearn: 0.0004522\ttotal: 1.75s\tremaining: 383ms\n",
            "495:\tlearn: 0.0004503\ttotal: 1.76s\tremaining: 379ms\n",
            "496:\tlearn: 0.0004455\ttotal: 1.76s\tremaining: 375ms\n",
            "497:\tlearn: 0.0004400\ttotal: 1.76s\tremaining: 372ms\n",
            "498:\tlearn: 0.0004379\ttotal: 1.77s\tremaining: 368ms\n",
            "499:\tlearn: 0.0004355\ttotal: 1.77s\tremaining: 365ms\n",
            "500:\tlearn: 0.0004308\ttotal: 1.78s\tremaining: 362ms\n",
            "501:\tlearn: 0.0004281\ttotal: 1.78s\tremaining: 358ms\n",
            "502:\tlearn: 0.0004281\ttotal: 1.78s\tremaining: 355ms\n",
            "503:\tlearn: 0.0004280\ttotal: 1.79s\tremaining: 351ms\n",
            "504:\tlearn: 0.0004242\ttotal: 1.79s\tremaining: 347ms\n",
            "505:\tlearn: 0.0004225\ttotal: 1.79s\tremaining: 344ms\n",
            "506:\tlearn: 0.0004185\ttotal: 1.8s\tremaining: 340ms\n",
            "507:\tlearn: 0.0004154\ttotal: 1.8s\tremaining: 337ms\n",
            "508:\tlearn: 0.0004126\ttotal: 1.8s\tremaining: 333ms\n",
            "509:\tlearn: 0.0004043\ttotal: 1.81s\tremaining: 329ms\n",
            "510:\tlearn: 0.0004000\ttotal: 1.81s\tremaining: 326ms\n",
            "511:\tlearn: 0.0003968\ttotal: 1.81s\tremaining: 322ms\n",
            "512:\tlearn: 0.0003966\ttotal: 1.82s\tremaining: 319ms\n",
            "513:\tlearn: 0.0003920\ttotal: 1.82s\tremaining: 315ms\n",
            "514:\tlearn: 0.0003881\ttotal: 1.82s\tremaining: 311ms\n",
            "515:\tlearn: 0.0003855\ttotal: 1.82s\tremaining: 308ms\n",
            "516:\tlearn: 0.0003837\ttotal: 1.83s\tremaining: 304ms\n",
            "517:\tlearn: 0.0003834\ttotal: 1.83s\tremaining: 301ms\n",
            "518:\tlearn: 0.0003834\ttotal: 1.84s\tremaining: 297ms\n",
            "519:\tlearn: 0.0003810\ttotal: 1.84s\tremaining: 294ms\n",
            "520:\tlearn: 0.0003776\ttotal: 1.84s\tremaining: 290ms\n",
            "521:\tlearn: 0.0003734\ttotal: 1.85s\tremaining: 287ms\n",
            "522:\tlearn: 0.0003709\ttotal: 1.85s\tremaining: 283ms\n",
            "523:\tlearn: 0.0003677\ttotal: 1.85s\tremaining: 279ms\n",
            "524:\tlearn: 0.0003634\ttotal: 1.86s\tremaining: 276ms\n",
            "525:\tlearn: 0.0003610\ttotal: 1.86s\tremaining: 272ms\n",
            "526:\tlearn: 0.0003588\ttotal: 1.86s\tremaining: 269ms\n",
            "527:\tlearn: 0.0003541\ttotal: 1.87s\tremaining: 265ms\n",
            "528:\tlearn: 0.0003462\ttotal: 1.87s\tremaining: 262ms\n",
            "529:\tlearn: 0.0003431\ttotal: 1.87s\tremaining: 258ms\n",
            "530:\tlearn: 0.0003401\ttotal: 1.88s\tremaining: 254ms\n",
            "531:\tlearn: 0.0003393\ttotal: 1.88s\tremaining: 251ms\n",
            "532:\tlearn: 0.0003382\ttotal: 1.88s\tremaining: 247ms\n",
            "533:\tlearn: 0.0003382\ttotal: 1.89s\tremaining: 244ms\n",
            "534:\tlearn: 0.0003340\ttotal: 1.89s\tremaining: 240ms\n",
            "535:\tlearn: 0.0003279\ttotal: 1.89s\tremaining: 237ms\n",
            "536:\tlearn: 0.0003278\ttotal: 1.9s\tremaining: 233ms\n",
            "537:\tlearn: 0.0003239\ttotal: 1.9s\tremaining: 230ms\n",
            "538:\tlearn: 0.0003238\ttotal: 1.9s\tremaining: 226ms\n",
            "539:\tlearn: 0.0003193\ttotal: 1.91s\tremaining: 222ms\n",
            "540:\tlearn: 0.0003160\ttotal: 1.91s\tremaining: 219ms\n",
            "541:\tlearn: 0.0003158\ttotal: 1.91s\tremaining: 215ms\n",
            "542:\tlearn: 0.0003127\ttotal: 1.92s\tremaining: 212ms\n",
            "543:\tlearn: 0.0003123\ttotal: 1.92s\tremaining: 208ms\n",
            "544:\tlearn: 0.0003106\ttotal: 1.92s\tremaining: 205ms\n",
            "545:\tlearn: 0.0003091\ttotal: 1.93s\tremaining: 201ms\n",
            "546:\tlearn: 0.0003070\ttotal: 1.93s\tremaining: 198ms\n",
            "547:\tlearn: 0.0003049\ttotal: 1.93s\tremaining: 194ms\n",
            "548:\tlearn: 0.0003024\ttotal: 1.94s\tremaining: 190ms\n",
            "549:\tlearn: 0.0003011\ttotal: 1.94s\tremaining: 187ms\n",
            "550:\tlearn: 0.0002972\ttotal: 1.94s\tremaining: 183ms\n",
            "551:\tlearn: 0.0002960\ttotal: 1.95s\tremaining: 180ms\n",
            "552:\tlearn: 0.0002941\ttotal: 1.95s\tremaining: 176ms\n",
            "553:\tlearn: 0.0002882\ttotal: 1.95s\tremaining: 173ms\n",
            "554:\tlearn: 0.0002862\ttotal: 1.95s\tremaining: 169ms\n",
            "555:\tlearn: 0.0002861\ttotal: 1.96s\tremaining: 166ms\n",
            "556:\tlearn: 0.0002828\ttotal: 1.97s\tremaining: 162ms\n",
            "557:\tlearn: 0.0002824\ttotal: 1.97s\tremaining: 159ms\n",
            "558:\tlearn: 0.0002784\ttotal: 1.97s\tremaining: 155ms\n",
            "559:\tlearn: 0.0002764\ttotal: 1.98s\tremaining: 152ms\n",
            "560:\tlearn: 0.0002741\ttotal: 1.98s\tremaining: 148ms\n",
            "561:\tlearn: 0.0002702\ttotal: 1.98s\tremaining: 145ms\n",
            "562:\tlearn: 0.0002700\ttotal: 1.99s\tremaining: 141ms\n",
            "563:\tlearn: 0.0002671\ttotal: 1.99s\tremaining: 137ms\n",
            "564:\tlearn: 0.0002660\ttotal: 1.99s\tremaining: 134ms\n",
            "565:\tlearn: 0.0002636\ttotal: 1.99s\tremaining: 130ms\n",
            "566:\tlearn: 0.0002626\ttotal: 2s\tremaining: 127ms\n",
            "567:\tlearn: 0.0002622\ttotal: 2s\tremaining: 123ms\n",
            "568:\tlearn: 0.0002611\ttotal: 2s\tremaining: 120ms\n",
            "569:\tlearn: 0.0002590\ttotal: 2.01s\tremaining: 116ms\n",
            "570:\tlearn: 0.0002582\ttotal: 2.01s\tremaining: 113ms\n",
            "571:\tlearn: 0.0002536\ttotal: 2.02s\tremaining: 109ms\n",
            "572:\tlearn: 0.0002535\ttotal: 2.02s\tremaining: 106ms\n",
            "573:\tlearn: 0.0002514\ttotal: 2.02s\tremaining: 102ms\n",
            "574:\tlearn: 0.0002500\ttotal: 2.03s\tremaining: 98.7ms\n",
            "575:\tlearn: 0.0002489\ttotal: 2.03s\tremaining: 95.2ms\n",
            "576:\tlearn: 0.0002467\ttotal: 2.03s\tremaining: 91.6ms\n",
            "577:\tlearn: 0.0002460\ttotal: 2.04s\tremaining: 88.1ms\n",
            "578:\tlearn: 0.0002438\ttotal: 2.04s\tremaining: 84.6ms\n",
            "579:\tlearn: 0.0002394\ttotal: 2.04s\tremaining: 81ms\n",
            "580:\tlearn: 0.0002382\ttotal: 2.05s\tremaining: 77.5ms\n",
            "581:\tlearn: 0.0002376\ttotal: 2.05s\tremaining: 74ms\n",
            "582:\tlearn: 0.0002371\ttotal: 2.05s\tremaining: 70.4ms\n",
            "583:\tlearn: 0.0002365\ttotal: 2.06s\tremaining: 66.9ms\n",
            "584:\tlearn: 0.0002357\ttotal: 2.06s\tremaining: 63.4ms\n",
            "585:\tlearn: 0.0002340\ttotal: 2.06s\tremaining: 59.8ms\n",
            "586:\tlearn: 0.0002331\ttotal: 2.06s\tremaining: 56.3ms\n",
            "587:\tlearn: 0.0002319\ttotal: 2.07s\tremaining: 52.8ms\n",
            "588:\tlearn: 0.0002314\ttotal: 2.07s\tremaining: 49.3ms\n",
            "589:\tlearn: 0.0002313\ttotal: 2.07s\tremaining: 45.7ms\n",
            "590:\tlearn: 0.0002298\ttotal: 2.08s\tremaining: 42.2ms\n",
            "591:\tlearn: 0.0002288\ttotal: 2.08s\tremaining: 38.7ms\n",
            "592:\tlearn: 0.0002256\ttotal: 2.08s\tremaining: 35.1ms\n",
            "593:\tlearn: 0.0002213\ttotal: 2.09s\tremaining: 31.6ms\n",
            "594:\tlearn: 0.0002187\ttotal: 2.09s\tremaining: 28.1ms\n",
            "595:\tlearn: 0.0002169\ttotal: 2.09s\tremaining: 24.6ms\n",
            "596:\tlearn: 0.0002162\ttotal: 2.1s\tremaining: 21.1ms\n",
            "597:\tlearn: 0.0002151\ttotal: 2.1s\tremaining: 17.6ms\n",
            "598:\tlearn: 0.0002130\ttotal: 2.1s\tremaining: 14.1ms\n",
            "599:\tlearn: 0.0002113\ttotal: 2.11s\tremaining: 10.5ms\n",
            "600:\tlearn: 0.0002095\ttotal: 2.11s\tremaining: 7.03ms\n",
            "601:\tlearn: 0.0002073\ttotal: 2.11s\tremaining: 3.51ms\n",
            "602:\tlearn: 0.0002057\ttotal: 2.12s\tremaining: 0us\n"
          ],
          "name": "stdout"
        },
        {
          "output_type": "execute_result",
          "data": {
            "text/plain": [
              "<catboost.core.CatBoostRegressor at 0x7ff41ef45bd0>"
            ]
          },
          "metadata": {
            "tags": []
          },
          "execution_count": 35
        }
      ]
    },
    {
      "cell_type": "code",
      "metadata": {
        "id": "40E0FtKM7uIb",
        "outputId": "e7a16885-9fbb-4cf9-9916-1ffbe033fcd9",
        "colab": {
          "base_uri": "https://localhost:8080/"
        }
      },
      "source": [
        "y_pred=CB.predict(X_test)\n",
        "from sklearn.metrics import mean_squared_error\n",
        "rmse = np.sqrt(mean_squared_error(y_test, y_pred))\n",
        "rmse"
      ],
      "execution_count": 36,
      "outputs": [
        {
          "output_type": "execute_result",
          "data": {
            "text/plain": [
              "0.16332204161800207"
            ]
          },
          "metadata": {
            "tags": []
          },
          "execution_count": 36
        }
      ]
    },
    {
      "cell_type": "code",
      "metadata": {
        "id": "NnSqnWYs8BiV"
      },
      "source": [
        ""
      ],
      "execution_count": null,
      "outputs": []
    }
  ]
}